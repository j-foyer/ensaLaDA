{
 "cells": [
  {
   "cell_type": "code",
   "execution_count": 2,
   "metadata": {},
   "outputs": [],
   "source": [
    "import random\n",
    "import numpy as np\n",
    "import scanpy as sc\n",
    "import anndata as an\n",
    "import scipy.stats as st\n",
    "from scipy.spatial import KDTree\n",
    "import math\n",
    "from numba import njit\n",
    "from numba import jit\n",
    "from typing import *\n",
    "\n",
    "\n",
    "import matplotlib.pyplot as plt\n",
    "from matplotlib import rcParams\n",
    "\n",
    "rcParams[\"figure.facecolor\"] = \"white\"\n",
    "\n",
    "DEBUG = False"
   ]
  },
  {
   "cell_type": "code",
   "execution_count": 3,
   "metadata": {},
   "outputs": [],
   "source": [
    "DATA_PTH = \"/Users/juliafoyer/Documents/Skolarbete/Masters_thesis/human_breast_cancer_ST_data\""
   ]
  },
  {
   "cell_type": "code",
   "execution_count": 6,
   "metadata": {},
   "outputs": [],
   "source": [
    "def prepare_data(adata : an.AnnData, select_hvg : bool = True)-> an.AnnData:\n",
    "    adata.var_names_make_unique()\n",
    "    X = np.array(adata.X.todense())\n",
    "    adata.X = X\n",
    "    if select_hvg:\n",
    "        sc.pp.log1p(adata)\n",
    "        sc.pp.highly_variable_genes(adata, n_top_genes = 1000)\n",
    "        adata = adata[:,adata.var.highly_variable.values]\n",
    "        adata.X = (np.exp(adata.X) -1).round(0)\n",
    "    return adata"
   ]
  },
  {
   "cell_type": "code",
   "execution_count": 7,
   "metadata": {},
   "outputs": [],
   "source": [
    "def gibbsSampling():\n",
    "    for d, doc in enumerate(ids):\n",
    "        for index, w in enumerate(doc):\n",
    "            z = umi_factors[d][index]\n",
    "            dt[d, z] -= 1\n",
    "            wt[z, w] -= 1\n",
    "            nz[z] -= 1\n",
    "            pz = np.divide(np.multiply(dt[d, :], wt[:, w]), nz)\n",
    "            z = np.random.multinomial(1, (pz / pz.sum())).argmax()\n",
    "            umi_factors[d][index] = z \n",
    "            dt[d, z] += 1\n",
    "            wt[z, w] += 1\n",
    "            nz[z] += 1"
   ]
  },
  {
   "cell_type": "code",
   "execution_count": 8,
   "metadata": {},
   "outputs": [
    {
     "name": "stderr",
     "output_type": "stream",
     "text": [
      "Variable names are not unique. To make them unique, call `.var_names_make_unique`.\n",
      "Variable names are not unique. To make them unique, call `.var_names_make_unique`.\n"
     ]
    }
   ],
   "source": [
    "adata = sc.read_visium(DATA_PTH)\n",
    "adata = prepare_data(adata,select_hvg=False)"
   ]
  },
  {
   "cell_type": "code",
   "execution_count": 9,
   "metadata": {},
   "outputs": [
    {
     "data": {
      "text/plain": [
       "AnnData object with n_obs × n_vars = 3798 × 36601\n",
       "    obs: 'in_tissue', 'array_row', 'array_col'\n",
       "    var: 'gene_ids', 'feature_types', 'genome'\n",
       "    uns: 'spatial'\n",
       "    obsm: 'spatial'"
      ]
     },
     "execution_count": 9,
     "metadata": {},
     "output_type": "execute_result"
    }
   ],
   "source": [
    "adata"
   ]
  },
  {
   "cell_type": "code",
   "execution_count": 10,
   "metadata": {},
   "outputs": [],
   "source": [
    "def subsample(adata):\n",
    "    n_spots, n_genes = adata.X.shape\n",
    "    N_s = adata.X.sum(axis=1).astype(np.float64)\n",
    "    for spot in range(n_spots):\n",
    "        p_s = adata.X[spot,:].astype(np.float64) / N_s[spot] # one per gene, i.e, 1000\n",
    "        p_s = p_s.astype(np.float64)\n",
    "        n = int(np.ceil(0.1*N_s[spot]))\n",
    "        new_x_s = np.random.multinomial(n,p_s)\n",
    "        adata.X[spot,:] = new_x_s\n",
    "    return adata  "
   ]
  },
  {
   "cell_type": "code",
   "execution_count": 11,
   "metadata": {},
   "outputs": [],
   "source": [
    "adata = subsample(adata)"
   ]
  },
  {
   "cell_type": "code",
   "execution_count": 12,
   "metadata": {},
   "outputs": [
    {
     "data": {
      "text/plain": [
       "AnnData object with n_obs × n_vars = 3798 × 36601\n",
       "    obs: 'in_tissue', 'array_row', 'array_col'\n",
       "    var: 'gene_ids', 'feature_types', 'genome'\n",
       "    uns: 'spatial'\n",
       "    obsm: 'spatial'"
      ]
     },
     "execution_count": 12,
     "metadata": {},
     "output_type": "execute_result"
    }
   ],
   "source": [
    "adata"
   ]
  },
  {
   "cell_type": "code",
   "execution_count": 13,
   "metadata": {},
   "outputs": [],
   "source": [
    "def plot_theta2(adata, dt,s=5):\n",
    "    theta = get_theta(dt)\n",
    "    crd = adata.obsm[\"spatial\"]\n",
    "    fig,ax = plt.subplots(1,1,figsize=(10,10))\n",
    "    ax.scatter(crd[:,1],crd[:,0],c = theta,s=s,edgecolor = \"none\")\n",
    "    ax.set_aspect(\"equal\")\n",
    "    for sp in ax.spines.keys():\n",
    "        ax.spines[sp].set_visible(False)\n",
    "    \n",
    "    ax.set_xticks([])\n",
    "    ax.set_yticks([])\n",
    "    ax.set_xticklabels([])\n",
    "    ax.set_yticklabels([])\n",
    "    #plt.invert_yaxis()\n",
    "    plt.show()"
   ]
  },
  {
   "cell_type": "code",
   "execution_count": 7,
   "metadata": {},
   "outputs": [
    {
     "data": {
      "image/png": "[encoded data removed]",
      "text/plain": [
       "<Figure size 432x288 with 1 Axes>"
      ]
     },
     "metadata": {},
     "output_type": "display_data"
    }
   ],
   "source": [
    "side_length = adata.uns[\"info\"][\"side_length\"]\n",
    "plt.imshow(adata.obsm[\"theta\"].reshape(side_length,side_length,3))\n",
    "plt.title(\"Inferred theta values (in RGB space) across tissue\")\n",
    "plt.show()"
   ]
  },
  {
   "cell_type": "markdown",
   "metadata": {},
   "source": [
    "## Define LDAdataset"
   ]
  },
  {
   "cell_type": "code",
   "execution_count": 19,
   "metadata": {},
   "outputs": [],
   "source": [
    "class LDAdataset:\n",
    "    def __init__(self,\n",
    "                 matrix: np.ndarray,\n",
    "                 crd: np.ndarray,\n",
    "                 n_topics: int = 3,\n",
    "                 alpha: float = 0.1,\n",
    "                 beta: float = 0.1,\n",
    "                 nn: int = 6,\n",
    "                ):\n",
    "        \n",
    "        self.X = matrix\n",
    "        self.crd = crd\n",
    "        \n",
    "        self.alpha = alpha\n",
    "        self.beta = beta\n",
    "        self.l = 5\n",
    "        \n",
    "        self.Nd = self.X.sum(axis=1).astype(int)\n",
    "        self.N = self.Nd.sum().astype(int)\n",
    "        self.K = n_topics\n",
    "        self.D = self.X.shape[0]\n",
    "        self.W = self.X.shape[1]\n",
    "        self.dt = np.zeros((self.D,self.K)) + self.alpha\n",
    "        self.tw = np.zeros((self.K,self.W)) + self.beta\n",
    "        self.nz = np.zeros(self.K)\n",
    "        \n",
    "        self.ztl = np.zeros(self.N,dtype=int)\n",
    "        self.dtl = np.zeros(self.N,dtype=int)\n",
    "        self.wtl = np.zeros(self.N,dtype=int)\n",
    "        \n",
    "        self.theta = np.zeros((self.N,self.K),dtype=np.float64)\n",
    "        self.phi = np.zeros((self.K,self.W),dtype = np.float64)\n",
    "        \n",
    "        self.nn = nn\n",
    "        self.nbrmat = np.zeros((self.N,self.nn),dtype = int)\n",
    "        self.nbrmask = np.zeros((self.N,self.nn),dtype = int)\n",
    "        self._build_nbrhd()\n",
    "        \n",
    "        self._initialize()\n",
    "        \n",
    "        \n",
    "    def _build_nbrhd(self,):\n",
    "        kd = KDTree(self.crd)\n",
    "        dist,idx = kd.query(self.crd,k = self.nn)\n",
    "        no_nbr = np.isinf(dist)\n",
    "        dist[no_nbr] = 0\n",
    "        dist[~no_nbr] = 1\n",
    "        idx[no_nbr] = -1\n",
    "        self.nbrmask = dist\n",
    "        self.nbrmat = idx\n",
    "        \n",
    "    \n",
    "    def distance_fun(self,p,q):\n",
    "        #Bhattacharyya distance\n",
    "        return - np.log(np.sqrt(p*q).sum())\n",
    "        \n",
    "    \n",
    "    def log_potential(self,theta_a,theta_b):\n",
    "        return -self.l * self.distance_fun(theta_a,theta_b)\n",
    "    \n",
    "    \n",
    "    def _sample_theta(self,d,n_iter = 10):\n",
    "        \n",
    "        proposal_dist = st.dirichlet(self.dt[d,:])\n",
    "        \n",
    "        theta_mat = np.zeros((n_iter+1,self.K))\n",
    "        \n",
    "        theta_mat[0,:] = self.theta[d,:]\n",
    "        old_log_proposal = proposal_dist.logpdf(theta_mat[0,:])\n",
    "        old_log_target = self.log_potential(theta_mat[0,:],self.theta[self.nbrmat[d,:]])\n",
    "        old_log_target *= self.nbrmask[d,:] # look up and compare to dist[spot,:]\n",
    "        old_log_target = old_log_target.sum()\n",
    "\n",
    "        for it in range(1,n_iter+1):\n",
    "            new_theta = proposal_dist.rvs()[0]\n",
    "            new_log_proposal = proposal_dist.logpdf(new_theta)\n",
    "            new_log_target = self.log_potential(new_theta,self.theta[self.nbrmat[d,:]])\n",
    "            new_log_target *= self.nbrmask[d,:]\n",
    "            new_log_target = new_log_target.sum()\n",
    "            \n",
    "            \n",
    "            log_u = new_log_target + old_log_proposal - old_log_target - new_log_proposal\n",
    "            u = np.exp(log_u) \n",
    "            a = min(u,1)\n",
    "\n",
    "            if np.random.random() < a:\n",
    "                theta_mat[it,:] = new_theta\n",
    "                old_log_target = new_log_target\n",
    "                old_log_proposal = new_log_proposal\n",
    "            else:\n",
    "                theta_mat[it,:] = theta_mat[it-1,:]\n",
    "                \n",
    "        self.theta[d,:] = theta_mat.mean(axis=0)\n",
    "        \n",
    "        \n",
    "    def _initialize(self,):\n",
    "        \n",
    "        w_tot = 0\n",
    "        for d in range(self.D):\n",
    "            for w in range(self.W):\n",
    "                for ii in range(int(self.X[d,w])):\n",
    "                    z = w_tot % self.K\n",
    "                    self.dt[d,z] +=1\n",
    "                    self.tw[z,w] +=1\n",
    "                    self.nz[z] +=1\n",
    "                    \n",
    "                    self.ztl[w_tot] = z\n",
    "                    self.wtl[w_tot] = w\n",
    "                    self.dtl[w_tot] = d\n",
    "                    w_tot += 1\n",
    "                    \n",
    "        self._update_theta()\n",
    "        self._update_phi()\n",
    "        \n",
    "    def _update_theta(self,):\n",
    "        self.theta = self.dt / self.dt.sum(axis=1, keepdims=True)\n",
    "        \n",
    "    def _update_phi(self,):\n",
    "        self.phi = self.tw / self.tw.sum(axis=0,keepdims = True)\n",
    "    \n",
    "    def vanillaGibbsSampling(self,n_iter):\n",
    "        for it in range(n_iter):\n",
    "            print(\"\\rIteration {}\".format(it),end=\"\")\n",
    "            for ii in range(self.N):\n",
    "                z = self.ztl[ii]\n",
    "                d = self.dtl[ii]\n",
    "                w = self.wtl[ii]\n",
    "\n",
    "                self.dt[d, z] -= 1\n",
    "                self.tw[z, w] -= 1\n",
    "                self.nz[z] -= 1\n",
    "\n",
    "                \n",
    "                pz = np.divide(np.multiply(self.dt[d, :], self.tw[:, w]), self.nz)\n",
    "                pz = pz / pz.sum()\n",
    "                \n",
    "                new_z = np.random.multinomial(1, pz).argmax()\n",
    "\n",
    "                self.ztl[ii] = new_z\n",
    "                self.dt[d, new_z] += 1\n",
    "                self.tw[new_z, w] += 1\n",
    "                self.nz[new_z] += 1\n",
    "                \n",
    "    def spatialGibbsSampling(self,\n",
    "                            n_iter):\n",
    "        \n",
    "        for it in range(n_iter):\n",
    "            print(\"\\rIteration {}\".format(it),end=\"\")\n",
    "            for ii in range(self.N):\n",
    "                z = self.ztl[ii]\n",
    "                d = self.dtl[ii]\n",
    "                w = self.wtl[ii]\n",
    "\n",
    "                self.dt[d, z] -= 1\n",
    "                self.tw[z, w] -= 1\n",
    "                self.nz[z] -= 1\n",
    "                \n",
    "                p2 = self.tw[:,w] / (self.nz + self.beta*self.W)\n",
    "                pz = self.theta[d,:] * p2\n",
    "                pz = pz / pz.sum()\n",
    "                \n",
    "                new_z = np.random.multinomial(1, pz).argmax()\n",
    "\n",
    "                self.ztl[ii] = new_z\n",
    "                self.dt[d, new_z] += 1\n",
    "                self.tw[new_z, w] += 1\n",
    "                self.nz[new_z] += 1\n",
    "                \n",
    "                self._sample_theta(d)\n",
    "                \n",
    "                "
   ]
  },
  {
   "cell_type": "code",
   "execution_count": 15,
   "metadata": {},
   "outputs": [
    {
     "ename": "NameError",
     "evalue": "name 'data' is not defined",
     "output_type": "error",
     "traceback": [
      "\u001b[0;31m---------------------------------------------------------------------------\u001b[0m",
      "\u001b[0;31mNameError\u001b[0m                                 Traceback (most recent call last)",
      "\u001b[0;32m<ipython-input-15-34825d5ff4cb>\u001b[0m in \u001b[0;36m<module>\u001b[0;34m\u001b[0m\n\u001b[0;32m----> 1\u001b[0;31m \u001b[0mdata\u001b[0m\u001b[0;34m.\u001b[0m\u001b[0mN\u001b[0m\u001b[0;34m\u001b[0m\u001b[0;34m\u001b[0m\u001b[0m\n\u001b[0m",
      "\u001b[0;31mNameError\u001b[0m: name 'data' is not defined"
     ]
    }
   ],
   "source": [
    "data.N"
   ]
  },
  {
   "cell_type": "markdown",
   "metadata": {},
   "source": [
    "### spatial LDA\n",
    "\n",
    "first fit the model"
   ]
  },
  {
   "cell_type": "code",
   "execution_count": null,
   "metadata": {},
   "outputs": [
    {
     "name": "stdout",
     "output_type": "stream",
     "text": [
      "Iteration 29"
     ]
    }
   ],
   "source": [
    "%%time\n",
    "data = LDAdataset(adata.X,adata.obsm[\"spatial\"])\n",
    "data.spatialGibbsSampling(50)"
   ]
  },
  {
   "cell_type": "markdown",
   "metadata": {},
   "source": [
    "Then examine the results"
   ]
  },
  {
   "cell_type": "code",
   "execution_count": 12,
   "metadata": {},
   "outputs": [
    {
     "name": "stdout",
     "output_type": "stream",
     "text": [
      "5\n"
     ]
    },
    {
     "data": {
      "image/png": "[encoded data removed]",
      "text/plain": [
       "<Figure size 432x288 with 1 Axes>"
      ]
     },
     "metadata": {},
     "output_type": "display_data"
    }
   ],
   "source": [
    "data._update_theta()\n",
    "print(data.l)\n",
    "plt.imshow(data.theta.reshape(side_length,side_length,3)[:,:,[1,2,0]])\n",
    "plt.title(\"Inferred theta values (in RGB space) across tissue\")\n",
    "plt.show()"
   ]
  },
  {
   "cell_type": "markdown",
   "metadata": {},
   "source": [
    "### vanilla LDA\n",
    "\n",
    "first fit the model"
   ]
  },
  {
   "cell_type": "code",
   "execution_count": 13,
   "metadata": {},
   "outputs": [
    {
     "name": "stdout",
     "output_type": "stream",
     "text": [
      "Iteration 149CPU times: user 31.6 s, sys: 1.47 s, total: 33 s\n",
      "Wall time: 31.4 s\n"
     ]
    }
   ],
   "source": [
    "%%time\n",
    "data2 = LDAdataset(adata.X,adata.obsm[\"spatial\"])\n",
    "data2.vanillaGibbsSampling(150)"
   ]
  },
  {
   "cell_type": "markdown",
   "metadata": {},
   "source": [
    "then inspect the results"
   ]
  },
  {
   "cell_type": "code",
   "execution_count": 14,
   "metadata": {},
   "outputs": [
    {
     "name": "stdout",
     "output_type": "stream",
     "text": [
      "5\n"
     ]
    },
    {
     "data": {
      "image/png": "[encoded data removed]",
      "text/plain": [
       "<Figure size 432x288 with 1 Axes>"
      ]
     },
     "metadata": {},
     "output_type": "display_data"
    }
   ],
   "source": [
    "data2._update_theta()\n",
    "print(data.l)\n",
    "plt.imshow(data2.theta.reshape(side_length,side_length,3)[:,:,[0,1,2]])\n",
    "plt.title(\"Inferred theta values (in RGB space) across tissue\")\n",
    "plt.show()"
   ]
  },
  {
   "cell_type": "markdown",
   "metadata": {},
   "source": [
    "## Breast cancer dataset"
   ]
  },
  {
   "cell_type": "code",
   "execution_count": null,
   "metadata": {},
   "outputs": [],
   "source": []
  }
 ],
 "metadata": {
  "kernelspec": {
   "display_name": "Python 3",
   "language": "python",
   "name": "python3"
  },
  "language_info": {
   "codemirror_mode": {
    "name": "ipython",
    "version": 3
   },
   "file_extension": ".py",
   "mimetype": "text/x-python",
   "name": "python",
   "nbconvert_exporter": "python",
   "pygments_lexer": "ipython3",
   "version": "3.7.9"
  }
 },
 "nbformat": 4,
 "nbformat_minor": 2
}
