{
 "cells": [
  {
   "cell_type": "markdown",
   "id": "dangerous-success",
   "metadata": {},
   "source": [
    "## Load data and packages"
   ]
  },
  {
   "cell_type": "code",
   "execution_count": 1,
   "id": "surrounded-archive",
   "metadata": {},
   "outputs": [],
   "source": [
    "import random\n",
    "import numpy as np\n",
    "import scanpy as sc\n",
    "import anndata as an\n",
    "import scipy.stats as st\n",
    "from scipy.spatial import KDTree\n",
    "import math\n",
    "from numba import njit\n",
    "from numba import jit\n",
    "from typing import *\n",
    "\n",
    "import matplotlib.pyplot as plt\n",
    "from matplotlib import rcParams\n",
    "\n",
    "rcParams[\"figure.facecolor\"] = \"white\"\n",
    "\n",
    "DEBUG = False"
   ]
  },
  {
   "cell_type": "code",
   "execution_count": 1047,
   "id": "patient-travel",
   "metadata": {},
   "outputs": [],
   "source": [
    "def prepare_data(adata : an.AnnData, select_hvg : bool = True)-> an.AnnData:\n",
    "    adata.var_names_make_unique()\n",
    "    if select_hvg:\n",
    "        sc.pp.log1p(adata)\n",
    "        sc.pp.highly_variable_genes(adata)\n",
    "        adata = adata[:,adata.var.highly_variable_genes.values]\n",
    "        adata.X = (np.exp(adata.X) -1).round(0)\n",
    "    return adata"
   ]
  },
  {
   "cell_type": "code",
   "execution_count": 1048,
   "id": "silent-mexican",
   "metadata": {
    "scrolled": false
   },
   "outputs": [
    {
     "name": "stdout",
     "output_type": "stream",
     "text": [
      "AnnData object with n_obs × n_vars = 100 × 50\n",
      "    obs: 'spot'\n",
      "    var: 'gene'\n",
      "    uns: 'info'\n",
      "    obsm: 'spatial', 'theta'\n",
      "    varm: 'phi'\n"
     ]
    }
   ],
   "source": [
    "path = \"/Users/juliafoyer/Documents/Skolarbete/Masters_thesis/Scripts/spatial-data-synth/20210402100654897026-synth-data.h5ad\"\n",
    "adata = an.read_h5ad(path)\n",
    "print(adata)\n",
    "adata = prepare_data(adata,select_hvg=False)"
   ]
  },
  {
   "cell_type": "code",
   "execution_count": 1061,
   "id": "surgical-irrigation",
   "metadata": {},
   "outputs": [],
   "source": [
    "from sklearn.decomposition import LatentDirichletAllocation as LDA\n",
    "\n",
    "lda = LDA(n_components=3,max_iter=2000).fit(adata.X)\n"
   ]
  },
  {
   "cell_type": "code",
   "execution_count": 1056,
   "id": "motivated-belarus",
   "metadata": {},
   "outputs": [
    {
     "data": {
      "text/plain": [
       "(100, 10)"
      ]
     },
     "execution_count": 1056,
     "metadata": {},
     "output_type": "execute_result"
    }
   ],
   "source": [
    "theta_test.shape"
   ]
  },
  {
   "cell_type": "code",
   "execution_count": null,
   "id": "heated-folks",
   "metadata": {},
   "outputs": [],
   "source": [
    "theta_test = lda.fit_transform(adata.X)"
   ]
  },
  {
   "cell_type": "code",
   "execution_count": 1059,
   "id": "fifty-arkansas",
   "metadata": {},
   "outputs": [
    {
     "data": {
      "image/png": "[encoded data removed]",
      "text/plain": [
       "<Figure size 432x288 with 1 Axes>"
      ]
     },
     "metadata": {},
     "output_type": "display_data"
    }
   ],
   "source": [
    "plt.imshow(theta_test.reshape(10,10,3))\n",
    "plt.title(\"Theta values (in RGB space) across tissue\")\n",
    "plt.show()"
   ]
  },
  {
   "cell_type": "code",
   "execution_count": 307,
   "id": "precise-syracuse",
   "metadata": {},
   "outputs": [
    {
     "data": {
      "image/png": "[encoded data removed]",
      "text/plain": [
       "<Figure size 432x288 with 1 Axes>"
      ]
     },
     "metadata": {},
     "output_type": "display_data"
    }
   ],
   "source": [
    "side_length = adata.uns[\"info\"][\"side_length\"]\n",
    "plt.imshow(adata.obsm[\"theta\"].reshape(side_length,side_length,3))\n",
    "plt.title(\"Theta values (in RGB space) across tissue\")\n",
    "plt.show()\n"
   ]
  },
  {
   "cell_type": "code",
   "execution_count": 563,
   "id": "ethical-graduate",
   "metadata": {},
   "outputs": [],
   "source": [
    "X = adata.X\n",
    "spots = adata.obs_names\n",
    "genes = adata.var_names\n",
    "n_spots = len(adata.obs_names)\n",
    "n_genes = len(adata.var_names)"
   ]
  },
  {
   "cell_type": "markdown",
   "id": "neural-scheduling",
   "metadata": {},
   "source": [
    "## Assign random factors"
   ]
  },
  {
   "cell_type": "code",
   "execution_count": 564,
   "id": "mounted-brooklyn",
   "metadata": {},
   "outputs": [],
   "source": [
    "def assign_random(adata, K):\n",
    "    \"\"\" Assigns a random factor in range(K) to each\n",
    "    UMI.\n",
    "\n",
    "    Parameters:\n",
    "    ----------\n",
    "    adata: an.AnnData\n",
    "        anndata object to study\n",
    "    K: int\n",
    "        number of topics\n",
    "    \n",
    "    Returns:\n",
    "    ----------\n",
    "    A list of lists (one for each spot), containing\n",
    "    a random factor for each UMI.\n",
    "    \"\"\"\n",
    "    umi_factor_list = []\n",
    "    all_n_umis = adata.X.sum(axis=1)\n",
    "    for n_UMIs in all_n_umis:\n",
    "        factors = np.random.randint(low = 0,\n",
    "                                    high = K,\n",
    "                                    size = int(n_UMIs))\n",
    "        umi_factor_list.append(factors)\n",
    "    return umi_factor_list"
   ]
  },
  {
   "cell_type": "code",
   "execution_count": 565,
   "id": "prepared-colorado",
   "metadata": {},
   "outputs": [],
   "source": [
    "# this is for testing purpose\n",
    "def get_gene_identity(adata):\n",
    "    \"\"\" add short description here\n",
    "    \n",
    "    Parameters:\n",
    "    ----------\n",
    "    \"\"\"\n",
    "    n_spots,n_genes = adata.shape\n",
    "    gene_id_list = []\n",
    "    X = adata.X\n",
    "    for spot in range(n_spots):\n",
    "        gene_id_list.append([])\n",
    "        for gene in range(n_genes):\n",
    "            gene_id_list[spot] += [gene] *int(X[spot,gene])\n",
    "    return gene_id_list"
   ]
  },
  {
   "cell_type": "markdown",
   "id": "unnecessary-sphere",
   "metadata": {},
   "source": [
    "## Get IDs and count matrices"
   ]
  },
  {
   "cell_type": "code",
   "execution_count": 1148,
   "id": "white-construction",
   "metadata": {},
   "outputs": [],
   "source": [
    "def get_ids_dt_wt(adata: an.AnnData,\n",
    "                  umi_factors: List[np.ndarray],\n",
    "                  K: int,\n",
    "                  alpha = 0.1,\n",
    "                  beta = 0.1)->Tuple[np.ndarray,np.ndarray,np.ndarray]:\n",
    "    \"\"\" add short description here\n",
    "    \n",
    "    Parameters:\n",
    "    ----------\n",
    "    adata : an.AnnData\n",
    "        anndata object to study\n",
    "    umi_factors. List[np.ndarray]\n",
    "        List of arrays. Element j in list i represents\n",
    "        topic that word j belongs to in spot i\n",
    "    K: int\n",
    "        number of topics\n",
    "\n",
    "    Returns:\n",
    "    --------\n",
    "    \n",
    "    \"\"\"\n",
    "    \n",
    "    n_spots, n_genes = adata.X.shape\n",
    "    X = adata.X\n",
    "    ids = []\n",
    "    dt = np.zeros((n_spots, K)) + alpha\n",
    "    wt = np.zeros((K, n_genes)) + beta\n",
    "    \n",
    "    for spot in range(n_spots):\n",
    "        ids_spot = []\n",
    "        spot_list = umi_factors[spot].tolist()\n",
    "        start = 0\n",
    "        end = 0\n",
    "        for gene in range(n_genes):\n",
    "            n_umis = int(X[spot, gene])\n",
    "            ids_spot += [gene] * n_umis\n",
    "            end += n_umis\n",
    "            for factor in range(K):\n",
    "                wt[factor, gene] += spot_list[start: end].count(factor)\n",
    "            start = end\n",
    "        ids.append(ids_spot)\n",
    "        for factor in range(K):\n",
    "            dt[spot, factor] = spot_list.count(factor)\n",
    "    return ids, dt, wt"
   ]
  },
  {
   "cell_type": "code",
   "execution_count": 567,
   "id": "foster-monaco",
   "metadata": {},
   "outputs": [],
   "source": [
    "# this is for testing purpose\n",
    "def get_ids_dt_wt_test(gene_ids: List[List[int]],\n",
    "                  umi_factors: List[np.ndarray],\n",
    "                  n_genes: int,\n",
    "                  K: int)->Tuple[np.ndarray,np.ndarray,np.ndarray]:\n",
    "    \"\"\" add short description here\n",
    "    \n",
    "    Parameters:\n",
    "    ----------\n",
    "    \"\"\"\n",
    "    \n",
    "    n_spots = len(gene_ids)\n",
    "    dt = np.zeros((n_spots, K))\n",
    "    wt = np.zeros((K, n_genes))\n",
    "    \n",
    "    for spot in range(n_spots):\n",
    "        for gene,factor in zip(gene_ids[spot],umi_factors[spot]):\n",
    "            dt[spot,factor] += 1\n",
    "            wt[factor,gene] += 1\n",
    "    \n",
    "    return dt,wt\n",
    "        "
   ]
  },
  {
   "cell_type": "code",
   "execution_count": 568,
   "id": "ordered-corruption",
   "metadata": {},
   "outputs": [],
   "source": [
    "umi_factors = assign_random(adata, 3)\n",
    "gene_ids = get_gene_identity(adata)\n",
    "assert len(umi_factors) == len(gene_ids)"
   ]
  },
  {
   "cell_type": "code",
   "execution_count": 569,
   "id": "bottom-venture",
   "metadata": {},
   "outputs": [],
   "source": [
    "# test to see whether proposed implementation\n",
    "# gives equal result as my attempt\n",
    "n_spots,n_genes = adata.shape\n",
    "ids,dt,wt = get_ids_dt_wt(adata,umi_factors,3)\n",
    "dt_test,wt_test = get_ids_dt_wt_test(gene_ids,umi_factors,n_genes,3)\n",
    "\n",
    "assert np.all(dt_test==dt)\n",
    "assert np.all(wt_test == wt)"
   ]
  },
  {
   "cell_type": "code",
   "execution_count": 570,
   "id": "compressed-creator",
   "metadata": {},
   "outputs": [],
   "source": [
    "ids, dt, wt = get_ids_dt_wt(adata, umi_factors, 3)"
   ]
  },
  {
   "cell_type": "code",
   "execution_count": 571,
   "id": "attended-background",
   "metadata": {},
   "outputs": [],
   "source": [
    "assert(np.all(np.sum(dt,axis=1) == np.sum(X,axis=1))), \"total UMI's in spot and dt rowsums must be equal\""
   ]
  },
  {
   "cell_type": "markdown",
   "id": "overall-shakespeare",
   "metadata": {},
   "source": [
    "## Functions for calculating theta and phi"
   ]
  },
  {
   "cell_type": "code",
   "execution_count": 572,
   "id": "seven-gnome",
   "metadata": {},
   "outputs": [],
   "source": [
    "def get_theta(dt):\n",
    "    \"\"\" add short description here\n",
    "    \n",
    "    Parameters:\n",
    "    ----------\n",
    "    \"\"\"\n",
    "    theta = dt / dt.sum(axis=1, keepdims=True)\n",
    "    return theta"
   ]
  },
  {
   "cell_type": "code",
   "execution_count": 573,
   "id": "hungarian-stockholm",
   "metadata": {},
   "outputs": [],
   "source": [
    "# Longer function for testing.\n",
    "def get_theta_test(dt):\n",
    "    \"\"\" add short description here\n",
    "    \n",
    "    Parameters:\n",
    "    ----------\n",
    "    \"\"\"\n",
    "    n_spots, K = dt.shape\n",
    "    theta = np.zeros((n_spots, K))\n",
    "    for spot in range(n_spots):\n",
    "        for factor in range(K):\n",
    "            theta[spot, factor] = dt[spot, factor] / np.sum(dt, axis=1)[spot]\n",
    "    return theta"
   ]
  },
  {
   "cell_type": "code",
   "execution_count": 574,
   "id": "solved-penguin",
   "metadata": {},
   "outputs": [],
   "source": [
    "theta = get_theta(dt)\n",
    "theta_test = get_theta_test(dt)\n",
    "assert np.all(theta_test==theta)"
   ]
  },
  {
   "cell_type": "code",
   "execution_count": 575,
   "id": "confused-excerpt",
   "metadata": {},
   "outputs": [],
   "source": [
    "def get_phi(wt): # I don't use this...\n",
    "    phi = wt/wt.sum(axis=1, keepdims=True)\n",
    "    return phi"
   ]
  },
  {
   "cell_type": "code",
   "execution_count": 576,
   "id": "theoretical-jenny",
   "metadata": {},
   "outputs": [],
   "source": [
    "phi = get_phi(wt)"
   ]
  },
  {
   "cell_type": "markdown",
   "id": "informational-athletics",
   "metadata": {},
   "source": [
    "## Get neighbours and graph edges"
   ]
  },
  {
   "cell_type": "code",
   "execution_count": 577,
   "id": "rapid-induction",
   "metadata": {},
   "outputs": [],
   "source": [
    "def findKNN(adata: an.AnnData,\n",
    "            n_neighbours: int,\n",
    "            max_distance: float)->Tuple[List[np.ndarray],List[np.ndarray]]:\n",
    "    \"\"\" add short description here\n",
    "    \n",
    "    Parameters:\n",
    "    ----------\n",
    "    \"\"\"\n",
    "    kd = KDTree(adata.obsm[\"spatial\"])\n",
    "    dist,indx = kd.query(adata.obsm[\"spatial\"],\n",
    "                         k = n_neighbours + 1,\n",
    "                         distance_upper_bound = max_distance, #I added this\n",
    "                        )\n",
    "    return dist, indx"
   ]
  },
  {
   "cell_type": "code",
   "execution_count": 578,
   "id": "stainless-dynamics",
   "metadata": {},
   "outputs": [],
   "source": [
    "dist, indx = findKNN(adata, 4, max_distance = 1.1)"
   ]
  },
  {
   "cell_type": "markdown",
   "id": "similar-equivalent",
   "metadata": {},
   "source": [
    "For some reason A put max_distance = 0.3. That results in no neighbours at all, so the output only contains lists including the spot looking for neighbours to, i.e., one element per list. I changed to 1.1. That makes sense to me when I look at the dist output without upper bound."
   ]
  },
  {
   "cell_type": "code",
   "execution_count": 579,
   "id": "democratic-flood",
   "metadata": {},
   "outputs": [],
   "source": [
    "def remove_false_neighbours(dist, indx, eps = 300):\n",
    "    \"\"\" add short description here\n",
    "    \n",
    "    Parameters:\n",
    "    ----------\n",
    "    \"\"\"\n",
    "    dist_sel = []\n",
    "    indx_sel = []\n",
    "    for i in range(len(dist)):\n",
    "        dist_sel.append([])\n",
    "        indx_sel.append([])\n",
    "        for j in range(len(dist[i])):\n",
    "            if dist[i][j] < eps:\n",
    "                dist_sel[i].append(dist[i][j])\n",
    "                indx_sel[i].append(indx[i][j])\n",
    "        dist_sel[i] = np.array(dist_sel[i])\n",
    "        indx_sel[i] = np.array(indx_sel[i])\n",
    "    return np.array(dist_sel, dtype=object), np.array(indx_sel, dtype=object)"
   ]
  },
  {
   "cell_type": "code",
   "execution_count": 582,
   "id": "global-manor",
   "metadata": {},
   "outputs": [],
   "source": [
    "# for test purposes\n",
    "def remove_false_neighbours_test(dist,indx):\n",
    "    \"\"\" add short description here\n",
    "    \n",
    "    Parameters:\n",
    "    ----------\n",
    "    \"\"\"\n",
    "    nbr_filter = lambda xs,ds : [x for x,d in zip(xs,ds) if not np.isinf(d)]\n",
    "    new_idx = [nbr_filter(i,d) for i,d in zip(indx,dist)]\n",
    "    new_dist = [nbr_filter(d,d) for d in dist]\n",
    "    return new_dist,new_idx"
   ]
  },
  {
   "cell_type": "code",
   "execution_count": 584,
   "id": "cosmetic-projector",
   "metadata": {},
   "outputs": [],
   "source": [
    "dist_sel_test,indx_sel_test = remove_false_neighbours_test(dist,indx)\n",
    "dist_sel, indx_sel = remove_false_neighbours(dist, indx)"
   ]
  },
  {
   "cell_type": "code",
   "execution_count": 589,
   "id": "surprised-basement",
   "metadata": {},
   "outputs": [],
   "source": [
    "# to test if same results are given\n",
    "for d,d_test,i,i_test in zip(dist_sel,dist_sel_test,indx_sel,indx_sel_test):\n",
    "    assert np.all(d == np.array(d_test))\n",
    "    assert np.all(i == np.array(i_test))\n",
    "    "
   ]
  },
  {
   "cell_type": "code",
   "execution_count": 590,
   "id": "stretch-honor",
   "metadata": {},
   "outputs": [],
   "source": [
    "def get_E(indx_sel):\n",
    "    \"\"\" add short description here\n",
    "    \n",
    "    Parameters:\n",
    "    ----------\n",
    "    \"\"\"\n",
    "    edges = 0\n",
    "    for i in indx_sel:\n",
    "        edges += len(i) - 1\n",
    "    edges = edges / 2\n",
    "    return edges"
   ]
  },
  {
   "cell_type": "code",
   "execution_count": 591,
   "id": "protecting-camel",
   "metadata": {},
   "outputs": [],
   "source": [
    "def get_E_test(indx_sel: List[int])->int:\n",
    "    \"\"\" add short description here\n",
    "    \n",
    "    Parameters:\n",
    "    ----------\n",
    "    \"\"\"\n",
    "    # make list to hold neighbor index pairs\n",
    "    indx_tuples = []\n",
    "    # iterate over neibhorhoods\n",
    "    for spot,nbrhd in enumerate(indx_sel):\n",
    "        # iterate over neihbors in neighborhood\n",
    "        for nbr in nbrhd[1::]:\n",
    "            # make a pair (spot,neibhor)\n",
    "            pair = [spot,nbr]\n",
    "            # sort pair to store edges the same way\n",
    "            # (a,b) and (b,a) will now be (a,b) and (a,b)\n",
    "            pair.sort()\n",
    "            # store pair, convert to tuple\n",
    "            indx_tuples.append(tuple(pair))\n",
    "    # apply set to pair list to remove duplicates\n",
    "    # will only hold unique edges now\n",
    "    indx_tuples = set(indx_tuples)\n",
    "    # return length\n",
    "    return len(indx_tuples)"
   ]
  },
  {
   "cell_type": "code",
   "execution_count": 592,
   "id": "continent-retention",
   "metadata": {},
   "outputs": [],
   "source": [
    "E = get_E(indx_sel)\n",
    "E_test = get_E_test(indx_sel)\n",
    "assert E == E_test"
   ]
  },
  {
   "cell_type": "markdown",
   "id": "permanent-research",
   "metadata": {},
   "source": [
    "## Get first lambda and l_dd"
   ]
  },
  {
   "cell_type": "code",
   "execution_count": 593,
   "id": "wireless-alert",
   "metadata": {},
   "outputs": [],
   "source": [
    "@njit(parallel=False)\n",
    "def bhattacharyya_distance(p: np.ndarray,\n",
    "                           q: np.ndarray,\n",
    "                           X: np.ndarray)->float:\n",
    "    \"\"\" add short description here\n",
    "    \n",
    "    Parameters:\n",
    "    ----------\n",
    "    p: np.ndarray\n",
    "        a probability distribution, e.g., a theta vector\n",
    "    q: np.ndarray'\n",
    "        another probability distribution, e.g., a theta vector\n",
    "    X: np.ndarray\n",
    "        the domain of the distributions\n",
    "    \n",
    "    Returns:\n",
    "    --------\n",
    "    the bhattacharyya distance (float) between the two\n",
    "    distributions p and q.\n",
    "    \n",
    "    \"\"\"\n",
    "    BC = 0\n",
    "    for x in range(X):\n",
    "        BC += math.sqrt(p[x]*q[x])\n",
    "    DB = - math.log(BC)\n",
    "    return DB"
   ]
  },
  {
   "cell_type": "code",
   "execution_count": 606,
   "id": "standard-access",
   "metadata": {},
   "outputs": [],
   "source": [
    "lambda0 = float(np.random.gamma(0.01, 0.01, 1)) # The 1 seems to be unnecessary here."
   ]
  },
  {
   "cell_type": "markdown",
   "id": "passive-adelaide",
   "metadata": {},
   "source": [
    "Har dubbelkollat funktioner ner hit."
   ]
  },
  {
   "cell_type": "code",
   "execution_count": 243,
   "id": "dated-bargain",
   "metadata": {},
   "outputs": [],
   "source": [
    "def first_edge_influence(lambda0: float,\n",
    "                         theta: np.ndarray,\n",
    "                         indx_sel: List[np.ndarray],\n",
    "                         K: int)->np.ndarray:\n",
    "    \n",
    "    \"\"\" add short description here\n",
    "    \n",
    "    Parameters:\n",
    "    ----------\n",
    "    lambda0: float\n",
    "    theta: np.ndarray\n",
    "    indx_sel: List[np.ndarray]\n",
    "    K: int\n",
    "    \n",
    "    Returns:\n",
    "    ----------\n",
    "    np.ndarray\n",
    "    \"\"\"\n",
    "    \n",
    "    edge_influence = []\n",
    "    n_spots = len(indx_sel)\n",
    "    for spot in range(n_spots):\n",
    "        p = theta[0]\n",
    "        influences = []\n",
    "        neighbours = indx_sel[spot][1:]\n",
    "        for neighbour in neighbours:\n",
    "            q = theta[neighbour]\n",
    "            influences.append(np.random.exponential(lambda0 + bhattacharyya_distance(p, q, K)))\n",
    "        edge_influence.append(influences)\n",
    "    return np.array(edge_influence, dtype=object)"
   ]
  },
  {
   "cell_type": "code",
   "execution_count": 544,
   "id": "inner-wisconsin",
   "metadata": {
    "scrolled": true
   },
   "outputs": [],
   "source": [
    "edge_influence = first_edge_influence(lambda0, theta, indx_sel, 3)"
   ]
  },
  {
   "cell_type": "markdown",
   "id": "logical-madrid",
   "metadata": {},
   "source": [
    "## Functions for Gibbs sampling of variables"
   ]
  },
  {
   "cell_type": "code",
   "execution_count": 245,
   "id": "wound-tackle",
   "metadata": {},
   "outputs": [],
   "source": [
    "def sample_edge_influence(edge_influence: np.ndarray,\n",
    "                          lambda_parameter: float,\n",
    "                          theta: np.ndarray,\n",
    "                          indx_sel: List[np.ndarray],\n",
    "                          K: int)->None:\n",
    "    \n",
    "    \n",
    "    n_spots = len(indx_sel)\n",
    "    X = K\n",
    "    for spot in range(n_spots):\n",
    "        p = theta[spot]\n",
    "        index = 1\n",
    "        n_neighbours = len(indx_sel[spot][1:])\n",
    "        for index in range(n_neighbours):\n",
    "            neighbour = indx_sel[spot][index+1]\n",
    "            q = theta[neighbour]\n",
    "            edge_influence[spot][index] = np.random.exponential(lambda_parameter + bhattacharyya_distance(p, q, X))"
   ]
  },
  {
   "cell_type": "code",
   "execution_count": 82,
   "id": "comic-original",
   "metadata": {},
   "outputs": [],
   "source": [
    "def sample_lambda(E: int,\n",
    "                  edge_influence: float,\n",
    "                  lambda_a = 0.01,\n",
    "                  lambda_b = 0.01):\n",
    "    \n",
    "    \"\"\" add short description here\n",
    "    \n",
    "    Parameters:\n",
    "    ----------\n",
    "    \"\"\"\n",
    "    \n",
    "    sum_edge_influences = 0\n",
    "    for edge in edge_influence:\n",
    "        sum_edge_influences += sum(edge)\n",
    "    shape = lambda_a + E\n",
    "    rate = 1 / (lambda_b + sum_edge_influences)\n",
    "    lambda_parameter = np.random.gamma(shape, rate, 1)\n",
    "    return lambda_parameter"
   ]
  },
  {
   "cell_type": "code",
   "execution_count": 545,
   "id": "endangered-quantity",
   "metadata": {},
   "outputs": [],
   "source": [
    "lambda_parameter = sample_lambda(E, edge_influence)"
   ]
  },
  {
   "cell_type": "code",
   "execution_count": 1163,
   "id": "eligible-liverpool",
   "metadata": {},
   "outputs": [],
   "source": [
    "def draw_new_factor(umi_factors,\n",
    "                    ids,\n",
    "                    spot,\n",
    "                    w,\n",
    "                    dt,\n",
    "                    wt,\n",
    "                    theta,\n",
    "                    K,\n",
    "                    beta = 10):\n",
    "    \n",
    "    \"\"\" add short description here\n",
    "    \n",
    "    Parameters:\n",
    "    ----------\n",
    "    \"\"\"\n",
    "    factor0 = umi_factors[spot][w]\n",
    "    gene_id = ids[spot][w]\n",
    "    dt[spot, factor0] -= 1 # spots x topics\n",
    "    wt[factor0, gene_id] -= 1 # factor x genes\n",
    "    \n",
    "    left = theta[spot,:]\n",
    "    # old\n",
    "    #right = (wt[:,gene_id] + beta) / (wt.sum(axis=0)[gene_id] + K * beta)\n",
    "    # new\n",
    "    right = (wt[:,gene_id] + beta)\n",
    "    right /= right.sum()\n",
    "    pvals = left*right\n",
    "    pvals = pvals / pvals.sum()\n",
    "    \n",
    "    factor1 = np.argmax(np.random.multinomial(1,pvals))\n",
    "    dt[spot, factor1] +=  1\n",
    "    wt[factor1, gene_id] += 1\n",
    "    umi_factors[spot][w] = factor1"
   ]
  },
  {
   "cell_type": "markdown",
   "id": "christian-architecture",
   "metadata": {},
   "source": [
    "## Metropolis-Hastings sampling of theta"
   ]
  },
  {
   "cell_type": "code",
   "execution_count": 36,
   "id": "opposed-fairy",
   "metadata": {},
   "outputs": [],
   "source": [
    "# we need to do MH at each step of the gibbs sampling\n",
    "# I've suggested a new solution below\n",
    "def metr_hast(theta, indx_sel, edge_influence, lambda_parameter, iterations = 1000):\n",
    "    \n",
    "    # Prepare proposal distribution    \n",
    "    dist_g = lambda x: np.random.dirichlet(x)\n",
    "\n",
    "    n_spots, X = theta.shape\n",
    "    \n",
    "    # Metropolis-Hastings sampling\n",
    "    for it in range(iterations):\n",
    "        for spot in range(n_spots):\n",
    "            log_a_prob0 = 0 # Cannot use from last Gibbs iteration, because there will be new edge_infl and lambdas.\n",
    "            log_a_prob1 = 0\n",
    "            p0 = theta[spot]\n",
    "            p1 = dist_g(np.sum(theta, axis=0)) \n",
    "            neighbours = indx_sel[spot][1:]\n",
    "            index = 0\n",
    "            for neighbour in neighbours:\n",
    "                q = theta[neighbour]\n",
    "                log_edge_potential0 = - Bhatt_dist(p0,q,X) * edge_influence[spot][index] # Double check\n",
    "                log_edge_potential1 = - Bhatt_dist(p1,q,X) * edge_influence[spot][index]\n",
    "                log_a_prob0 += log_edge_potential0\n",
    "                log_a_prob1 += log_edge_potential1\n",
    "                index += 1\n",
    "            a_prob = min(1, np.exp(log_a_prob1 - log_a_prob0)) \n",
    "#            print(a_prob) # This is really large. Maybe that's normal because everything is better than random?\n",
    "            if np.random.random() < a_prob:\n",
    "                p0 = p1\n",
    "            theta[spot] = p0"
   ]
  },
  {
   "cell_type": "code",
   "execution_count": 614,
   "id": "pending-vector",
   "metadata": {},
   "outputs": [],
   "source": [
    "def metropolis_hastings(spot,\n",
    "                        theta,\n",
    "                        dt,\n",
    "                        indx_sel,\n",
    "                        alpha_orig,\n",
    "                        edge_influence,\n",
    "                        n_iter = 1000):\n",
    "    \n",
    "    n_topics = theta.shape[1]\n",
    "    accepted = 0\n",
    "    \n",
    "    def log_target_dist(theta_eval):\n",
    "        l_prob = 0\n",
    "        for k,nbr in enumerate(indx_sel[spot][1::]): # going through all neighbours, k=counter\n",
    "            l_prob -=  edge_influence[spot][k]*\\\n",
    "            bhattacharyya_distance(theta_eval,theta[nbr],n_topics)\n",
    "        return l_prob\n",
    "    \n",
    "    proposal_dist = st.dirichlet(alpha_orig + dt[spot,:])\n",
    "    \n",
    "    old_theta = proposal_dist.rvs()[0]\n",
    "    old_log_proposal = proposal_dist.logpdf(old_theta)\n",
    "    old_log_target = log_target_dist(old_theta)\n",
    "            \n",
    "    for it in range(n_iter):\n",
    "        new_theta = proposal_dist.rvs()[0]\n",
    "        new_log_proposal = proposal_dist.logpdf(new_theta)\n",
    "        new_log_target = log_target_dist(new_theta)\n",
    "        \n",
    "        log_u = new_log_target + old_log_proposal - old_log_target - new_log_proposal\n",
    "        u = np.exp(log_u)\n",
    "        a = min(u,1)\n",
    "        if np.random.random() < a:\n",
    "            old_theta = new_theta\n",
    "            old_log_proposal = new_log_proposal\n",
    "            old_log_target = new_log_target\n",
    "            \n",
    "            accepted += 1\n",
    "        \n",
    "    if DEBUG: print(\"Fraction of accepted proposals : {}\".format(accepted / n_iter))\n",
    "            \n",
    "    return old_theta"
   ]
  },
  {
   "cell_type": "code",
   "execution_count": 615,
   "id": "basic-material",
   "metadata": {},
   "outputs": [],
   "source": [
    "def Gibbs(umi_factors,\n",
    "          ids,\n",
    "          dt,\n",
    "          wt,\n",
    "          theta,\n",
    "          K, iterations,\n",
    "          edge_influence,\n",
    "          lambda_parameter,\n",
    "          indx_sel,\n",
    "          E,\n",
    "          beta = 0.1):\n",
    "\n",
    "    alpha_orig = np.ones(K)\n",
    "    for it in range(iterations):\n",
    "        for spot in range(len(umi_factors)):\n",
    "            for w in range(len(umi_factors[spot])):\n",
    "                draw_new_factor(umi_factors, ids, spot, w, dt, wt, theta, K)\n",
    "                sample_edge_influence(edge_influence, lambda_parameter, theta, indx_sel, K)\n",
    "                lambda_parameter = sample_lambda(E, edge_influence, lambda_a = 0.01, lambda_b = 0.01)\n",
    "                theta[spot,:] = metropolis_hastings(spot,theta,dt,indx_sel,alpha_orig,edge_influence,n_iter =20)\n",
    "                "
   ]
  },
  {
   "cell_type": "markdown",
   "id": "honest-jason",
   "metadata": {},
   "source": [
    "## Gibbs sampling"
   ]
  },
  {
   "cell_type": "code",
   "execution_count": 983,
   "id": "small-surname",
   "metadata": {},
   "outputs": [],
   "source": [
    "def draw_new_factor_without_theta(umi_factors,\n",
    "                    ids,\n",
    "                    spot,\n",
    "                    w,\n",
    "                    dt,\n",
    "                    wt,\n",
    "                    K,\n",
    "                    alpha = 50,\n",
    "                    beta = 50):\n",
    "    \n",
    "    \"\"\" add short description here\n",
    "    \n",
    "    Parameters:\n",
    "    ----------\n",
    "    \"\"\"\n",
    "    factor0 = umi_factors[spot][w]\n",
    "    gene_id = ids[spot][w]\n",
    "    dt[spot, factor0] -= 1 # spots x topics\n",
    "    wt[factor0, gene_id] -= 1 # factor x genes\n",
    "    \n",
    "    left = dt.sum(axis=0) + alpha\n",
    "    left /= left.sum()\n",
    "    right = wt[:,gene_id] + beta\n",
    "    right /= right.sum()\n",
    "    pvals = left*right\n",
    "    pvals = pvals / pvals.sum()\n",
    "\n",
    "    factor1 = np.argmax(np.random.multinomial(1,pvals))\n",
    "    dt[spot, factor1] +=  1\n",
    "    wt[factor1, gene_id] += 1\n",
    "    umi_factors[spot][w] = factor1"
   ]
  },
  {
   "cell_type": "code",
   "execution_count": 984,
   "id": "palestinian-slave",
   "metadata": {},
   "outputs": [],
   "source": [
    "def Gibbs_without_MH(umi_factors,\n",
    "          ids,\n",
    "          dt,\n",
    "          wt,\n",
    "          K, iterations):\n",
    "\n",
    "    for it in range(iterations):\n",
    "        for spot in range(len(umi_factors)):\n",
    "            for w in range(len(umi_factors[spot])):\n",
    "                draw_new_factor_without_theta(umi_factors, ids, spot, w, dt, wt, K)\n",
    "    theta = get_theta(dt)\n",
    "               # sample_edge_influence(edge_influence, lambda_parameter, theta, indx_sel, K)\n",
    "               # lambda_parameter = sample_lambda(E, edge_influence, lambda_a = 0.01, lambda_b = 0.01)\n",
    "    return theta"
   ]
  },
  {
   "cell_type": "code",
   "execution_count": 1146,
   "id": "bigger-gasoline",
   "metadata": {},
   "outputs": [],
   "source": [
    "def gibbsSampling():\n",
    "    for d, doc in enumerate(ids):\n",
    "        for index, w in enumerate(doc):\n",
    "            z = umi_factors[d][index]\n",
    "            dt[d, z] -= 1\n",
    "            wt[z, w] -= 1\n",
    "            nz[z] -= 1\n",
    "            pz = np.divide(np.multiply(dt[d, :], wt[:, w]), nz)\n",
    "            z = np.random.multinomial(1, (pz / pz.sum())).argmax()\n",
    "            umi_factors[d][index] = z \n",
    "            dt[d, z] += 1\n",
    "            wt[z, w] += 1\n",
    "            nz[z] += 1"
   ]
  },
  {
   "cell_type": "code",
   "execution_count": 1164,
   "id": "friendly-settle",
   "metadata": {},
   "outputs": [
    {
     "name": "stdout",
     "output_type": "stream",
     "text": [
      "AnnData object with n_obs × n_vars = 100 × 50\n",
      "    obs: 'spot'\n",
      "    var: 'gene'\n",
      "    uns: 'info'\n",
      "    obsm: 'spatial', 'theta'\n",
      "    varm: 'phi'\n"
     ]
    }
   ],
   "source": [
    "path = \"/Users/juliafoyer/Documents/Skolarbete/Masters_thesis/Scripts/spatial-data-synth/20210402100654897026-synth-data.h5ad\"\n",
    "adata = an.read_h5ad(path)\n",
    "print(adata)\n",
    "adata = prepare_data(adata,select_hvg=False)\n",
    "\n",
    "umi_factors = assign_random(adata, 3)\n",
    "\n",
    "n_spots,n_genes = adata.shape\n",
    "ids,dt,wt = get_ids_dt_wt(adata,umi_factors,3)\n",
    "\n",
    "theta = get_theta(dt)\n",
    "\n",
    "n_genes = len(adata.var_names)\n",
    "K = 3\n",
    "alpha = 5\n",
    "beta = 0.1\n",
    "nz = dt.sum(axis=0)"
   ]
  },
  {
   "cell_type": "code",
   "execution_count": 1166,
   "id": "moving-astrology",
   "metadata": {},
   "outputs": [
    {
     "name": "stdout",
     "output_type": "stream",
     "text": [
      "CPU times: user 1min 34s, sys: 360 ms, total: 1min 35s\n",
      "Wall time: 1min 35s\n"
     ]
    }
   ],
   "source": [
    "%%time\n",
    "for i in range(0, 500):\n",
    "    gibbsSampling()"
   ]
  },
  {
   "cell_type": "code",
   "execution_count": 1165,
   "id": "underlying-dimension",
   "metadata": {},
   "outputs": [
    {
     "data": {
      "image/png": "[encoded data removed]",
      "text/plain": [
       "<Figure size 432x288 with 1 Axes>"
      ]
     },
     "metadata": {},
     "output_type": "display_data"
    }
   ],
   "source": [
    "theta_new = get_theta(dt)\n",
    "side_length = adata.uns[\"info\"][\"side_length\"]\n",
    "plt.imshow(theta_new.reshape(side_length,side_length,3))\n",
    "plt.title(\"Theta values (in RGB space) across tissue\")\n",
    "plt.show()"
   ]
  },
  {
   "cell_type": "code",
   "execution_count": 617,
   "id": "ambient-government",
   "metadata": {},
   "outputs": [
    {
     "data": {
      "image/png": "[encoded data removed]",
      "text/plain": [
       "<Figure size 432x288 with 1 Axes>"
      ]
     },
     "metadata": {},
     "output_type": "display_data"
    }
   ],
   "source": [
    "side_length = adata.uns[\"info\"][\"side_length\"]\n",
    "plt.imshow(adata.obsm[\"theta\"].reshape(side_length,side_length,3))\n",
    "plt.title(\"Theta values (in RGB space) across tissue\")\n",
    "plt.show()"
   ]
  },
  {
   "cell_type": "code",
   "execution_count": 1135,
   "id": "crazy-guatemala",
   "metadata": {},
   "outputs": [
    {
     "name": "stdout",
     "output_type": "stream",
     "text": [
      "AnnData object with n_obs × n_vars = 100 × 50\n",
      "    obs: 'spot'\n",
      "    var: 'gene'\n",
      "    uns: 'info'\n",
      "    obsm: 'spatial', 'theta'\n",
      "    varm: 'phi'\n"
     ]
    }
   ],
   "source": [
    "path = \"/Users/juliafoyer/Documents/Skolarbete/Masters_thesis/Scripts/spatial-data-synth/20210402100654897026-synth-data.h5ad\"\n",
    "adata = an.read_h5ad(path)\n",
    "print(adata)\n",
    "adata = prepare_data(adata,select_hvg=False)\n",
    "\n",
    "umi_factors = assign_random(adata, 3)\n",
    "gene_ids = get_gene_identity(adata)\n",
    "assert len(umi_factors) == len(gene_ids)\n",
    "\n",
    "n_spots,n_genes = adata.shape\n",
    "ids,dt,wt = get_ids_dt_wt(adata,umi_factors,3)\n",
    "dt_test,wt_test = get_ids_dt_wt_test(gene_ids,umi_factors,n_genes,3)\n",
    "assert np.all(dt_test==dt)\n",
    "assert np.all(wt_test == wt)\n",
    "assert(np.all(np.sum(dt,axis=1) == np.sum(X,axis=1))), \"total UMI's in spot and dt rowsums must be equal\"\n",
    "\n",
    "theta = get_theta(dt)\n",
    "theta_test = get_theta_test(dt)\n",
    "assert np.all(theta_test==theta)\n",
    "\n",
    "lambda0 = float(np.random.gamma(0.01, 0.01, 1)) # The 1 seems to be unnecessary here.\n",
    "edge_influence = first_edge_influence(lambda0, theta, indx_sel, 3)\n",
    "lambda_parameter = sample_lambda(E, edge_influence)\n",
    "\n",
    "nz = dt.sum(axis=0)"
   ]
  }
 ],
 "metadata": {
  "kernelspec": {
   "display_name": "Python 3",
   "language": "python",
   "name": "python3"
  },
  "language_info": {
   "codemirror_mode": {
    "name": "ipython",
    "version": 3
   },
   "file_extension": ".py",
   "mimetype": "text/x-python",
   "name": "python",
   "nbconvert_exporter": "python",
   "pygments_lexer": "ipython3",
   "version": "3.7.9"
  }
 },
 "nbformat": 4,
 "nbformat_minor": 5
}
