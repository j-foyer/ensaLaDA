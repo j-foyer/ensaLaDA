{
 "cells": [
  {
   "cell_type": "markdown",
   "metadata": {},
   "source": [
    "## Load data and packages"
   ]
  },
  {
   "cell_type": "code",
   "execution_count": 1398,
   "metadata": {},
   "outputs": [],
   "source": [
    "import random\n",
    "import numpy as np\n",
    "import scanpy as sc\n",
    "import anndata as an\n",
    "import scipy.stats as st\n",
    "from scipy.spatial import KDTree\n",
    "import math\n",
    "from numba import njit\n",
    "from numba import jit\n",
    "from typing import *\n",
    "\n",
    "import matplotlib.pyplot as plt\n",
    "from matplotlib import rcParams\n",
    "\n",
    "rcParams[\"figure.facecolor\"] = \"white\"\n",
    "\n",
    "DEBUG = False"
   ]
  },
  {
   "cell_type": "code",
   "execution_count": 1399,
   "metadata": {},
   "outputs": [],
   "source": [
    "def prepare_data(adata : an.AnnData, select_hvg : bool = True)-> an.AnnData:\n",
    "    adata.var_names_make_unique()\n",
    "    if select_hvg:\n",
    "        sc.pp.log1p(adata)\n",
    "        sc.pp.highly_variable_genes(adata)\n",
    "        adata = adata[:,adata.var.highly_variable_genes.values]\n",
    "        adata.X = (np.exp(adata.X) -1).round(0)\n",
    "    return adata"
   ]
  },
  {
   "cell_type": "code",
   "execution_count": 1400,
   "metadata": {},
   "outputs": [
    {
     "name": "stdout",
     "output_type": "stream",
     "text": [
      "AnnData object with n_obs × n_vars = 100 × 50\n",
      "    obs: 'spot'\n",
      "    var: 'gene'\n",
      "    uns: 'info'\n",
      "    obsm: 'spatial', 'theta'\n",
      "    varm: 'phi'\n"
     ]
    }
   ],
   "source": [
    "path = \"/home/alma/Documents/PhD/master-students/julia/src/Shrink_Le_Dimensions_Alot/spatial-data-synth/20210402100654897026-synth-data.h5ad\"\n",
    "adata = an.read_h5ad(path)\n",
    "print(adata)\n",
    "adata = prepare_data(adata,select_hvg=False)"
   ]
  },
  {
   "cell_type": "code",
   "execution_count": 1450,
   "metadata": {},
   "outputs": [
    {
     "name": "stderr",
     "output_type": "stream",
     "text": [
      "INFO:lda:n_documents: 100\n",
      "INFO:lda:vocab_size: 50\n",
      "INFO:lda:n_words: 10346\n",
      "INFO:lda:n_topics: 3\n",
      "INFO:lda:n_iter: 1500\n",
      "WARNING:lda:all zero column in document-term matrix found\n",
      "INFO:lda:<0> log likelihood: -44331\n",
      "INFO:lda:<10> log likelihood: -39607\n",
      "INFO:lda:<20> log likelihood: -38624\n",
      "INFO:lda:<30> log likelihood: -37909\n",
      "INFO:lda:<40> log likelihood: -37618\n",
      "INFO:lda:<50> log likelihood: -37325\n",
      "INFO:lda:<60> log likelihood: -37367\n",
      "INFO:lda:<70> log likelihood: -37579\n",
      "INFO:lda:<80> log likelihood: -37177\n",
      "INFO:lda:<90> log likelihood: -36957\n",
      "INFO:lda:<100> log likelihood: -36764\n",
      "INFO:lda:<110> log likelihood: -36485\n",
      "INFO:lda:<120> log likelihood: -36632\n",
      "INFO:lda:<130> log likelihood: -36647\n",
      "INFO:lda:<140> log likelihood: -36862\n",
      "INFO:lda:<150> log likelihood: -36498\n",
      "INFO:lda:<160> log likelihood: -36680\n",
      "INFO:lda:<170> log likelihood: -36434\n",
      "INFO:lda:<180> log likelihood: -36423\n",
      "INFO:lda:<190> log likelihood: -35910\n",
      "INFO:lda:<200> log likelihood: -36185\n",
      "INFO:lda:<210> log likelihood: -36374\n",
      "INFO:lda:<220> log likelihood: -36226\n",
      "INFO:lda:<230> log likelihood: -36174\n",
      "INFO:lda:<240> log likelihood: -35654\n",
      "INFO:lda:<250> log likelihood: -35769\n",
      "INFO:lda:<260> log likelihood: -35668\n",
      "INFO:lda:<270> log likelihood: -35319\n",
      "INFO:lda:<280> log likelihood: -35604\n",
      "INFO:lda:<290> log likelihood: -35692\n",
      "INFO:lda:<300> log likelihood: -35668\n",
      "INFO:lda:<310> log likelihood: -35560\n",
      "INFO:lda:<320> log likelihood: -35774\n",
      "INFO:lda:<330> log likelihood: -36054\n",
      "INFO:lda:<340> log likelihood: -35652\n",
      "INFO:lda:<350> log likelihood: -35683\n",
      "INFO:lda:<360> log likelihood: -35708\n",
      "INFO:lda:<370> log likelihood: -35681\n",
      "INFO:lda:<380> log likelihood: -35499\n",
      "INFO:lda:<390> log likelihood: -35695\n",
      "INFO:lda:<400> log likelihood: -35973\n",
      "INFO:lda:<410> log likelihood: -35891\n",
      "INFO:lda:<420> log likelihood: -35986\n",
      "INFO:lda:<430> log likelihood: -36170\n",
      "INFO:lda:<440> log likelihood: -36459\n",
      "INFO:lda:<450> log likelihood: -36314\n",
      "INFO:lda:<460> log likelihood: -36217\n",
      "INFO:lda:<470> log likelihood: -36229\n",
      "INFO:lda:<480> log likelihood: -36093\n",
      "INFO:lda:<490> log likelihood: -35943\n",
      "INFO:lda:<500> log likelihood: -35920\n",
      "INFO:lda:<510> log likelihood: -35796\n",
      "INFO:lda:<520> log likelihood: -35994\n",
      "INFO:lda:<530> log likelihood: -35986\n",
      "INFO:lda:<540> log likelihood: -35732\n",
      "INFO:lda:<550> log likelihood: -35593\n",
      "INFO:lda:<560> log likelihood: -35664\n",
      "INFO:lda:<570> log likelihood: -35649\n",
      "INFO:lda:<580> log likelihood: -35640\n",
      "INFO:lda:<590> log likelihood: -35546\n",
      "INFO:lda:<600> log likelihood: -35397\n",
      "INFO:lda:<610> log likelihood: -35536\n",
      "INFO:lda:<620> log likelihood: -35644\n",
      "INFO:lda:<630> log likelihood: -35455\n",
      "INFO:lda:<640> log likelihood: -35589\n",
      "INFO:lda:<650> log likelihood: -35401\n",
      "INFO:lda:<660> log likelihood: -35580\n",
      "INFO:lda:<670> log likelihood: -35772\n",
      "INFO:lda:<680> log likelihood: -35905\n",
      "INFO:lda:<690> log likelihood: -35824\n",
      "INFO:lda:<700> log likelihood: -36187\n",
      "INFO:lda:<710> log likelihood: -36028\n",
      "INFO:lda:<720> log likelihood: -36009\n",
      "INFO:lda:<730> log likelihood: -35755\n",
      "INFO:lda:<740> log likelihood: -36050\n",
      "INFO:lda:<750> log likelihood: -36153\n",
      "INFO:lda:<760> log likelihood: -35861\n",
      "INFO:lda:<770> log likelihood: -35667\n",
      "INFO:lda:<780> log likelihood: -35857\n",
      "INFO:lda:<790> log likelihood: -35624\n",
      "INFO:lda:<800> log likelihood: -35887\n",
      "INFO:lda:<810> log likelihood: -35685\n",
      "INFO:lda:<820> log likelihood: -35621\n",
      "INFO:lda:<830> log likelihood: -35929\n",
      "INFO:lda:<840> log likelihood: -35842\n",
      "INFO:lda:<850> log likelihood: -35591\n",
      "INFO:lda:<860> log likelihood: -35709\n",
      "INFO:lda:<870> log likelihood: -35597\n",
      "INFO:lda:<880> log likelihood: -35706\n",
      "INFO:lda:<890> log likelihood: -35385\n",
      "INFO:lda:<900> log likelihood: -35420\n",
      "INFO:lda:<910> log likelihood: -35761\n",
      "INFO:lda:<920> log likelihood: -35840\n",
      "INFO:lda:<930> log likelihood: -35805\n",
      "INFO:lda:<940> log likelihood: -35773\n",
      "INFO:lda:<950> log likelihood: -35894\n",
      "INFO:lda:<960> log likelihood: -35882\n",
      "INFO:lda:<970> log likelihood: -35608\n",
      "INFO:lda:<980> log likelihood: -35654\n",
      "INFO:lda:<990> log likelihood: -35702\n",
      "INFO:lda:<1000> log likelihood: -35502\n",
      "INFO:lda:<1010> log likelihood: -35252\n",
      "INFO:lda:<1020> log likelihood: -35205\n",
      "INFO:lda:<1030> log likelihood: -35518\n",
      "INFO:lda:<1040> log likelihood: -35418\n",
      "INFO:lda:<1050> log likelihood: -35373\n",
      "INFO:lda:<1060> log likelihood: -35539\n",
      "INFO:lda:<1070> log likelihood: -35573\n",
      "INFO:lda:<1080> log likelihood: -35536\n",
      "INFO:lda:<1090> log likelihood: -35913\n",
      "INFO:lda:<1100> log likelihood: -35876\n",
      "INFO:lda:<1110> log likelihood: -36150\n",
      "INFO:lda:<1120> log likelihood: -36118\n",
      "INFO:lda:<1130> log likelihood: -36027\n",
      "INFO:lda:<1140> log likelihood: -35691\n",
      "INFO:lda:<1150> log likelihood: -35517\n",
      "INFO:lda:<1160> log likelihood: -35621\n",
      "INFO:lda:<1170> log likelihood: -35783\n",
      "INFO:lda:<1180> log likelihood: -35683\n",
      "INFO:lda:<1190> log likelihood: -35848\n",
      "INFO:lda:<1200> log likelihood: -35781\n",
      "INFO:lda:<1210> log likelihood: -35836\n",
      "INFO:lda:<1220> log likelihood: -35758\n",
      "INFO:lda:<1230> log likelihood: -35892\n",
      "INFO:lda:<1240> log likelihood: -35824\n",
      "INFO:lda:<1250> log likelihood: -35708\n",
      "INFO:lda:<1260> log likelihood: -35397\n",
      "INFO:lda:<1270> log likelihood: -35461\n",
      "INFO:lda:<1280> log likelihood: -35454\n",
      "INFO:lda:<1290> log likelihood: -35197\n",
      "INFO:lda:<1300> log likelihood: -35347\n",
      "INFO:lda:<1310> log likelihood: -35411\n",
      "INFO:lda:<1320> log likelihood: -35766\n",
      "INFO:lda:<1330> log likelihood: -35969\n",
      "INFO:lda:<1340> log likelihood: -36006\n",
      "INFO:lda:<1350> log likelihood: -36019\n",
      "INFO:lda:<1360> log likelihood: -35998\n",
      "INFO:lda:<1370> log likelihood: -36100\n",
      "INFO:lda:<1380> log likelihood: -36003\n",
      "INFO:lda:<1390> log likelihood: -36071\n",
      "INFO:lda:<1400> log likelihood: -35995\n",
      "INFO:lda:<1410> log likelihood: -35986\n",
      "INFO:lda:<1420> log likelihood: -36226\n",
      "INFO:lda:<1430> log likelihood: -36277\n",
      "INFO:lda:<1440> log likelihood: -36225\n",
      "INFO:lda:<1450> log likelihood: -36092\n",
      "INFO:lda:<1460> log likelihood: -35864\n",
      "INFO:lda:<1470> log likelihood: -36155\n",
      "INFO:lda:<1480> log likelihood: -35840\n",
      "INFO:lda:<1490> log likelihood: -35564\n",
      "INFO:lda:<1499> log likelihood: -35814\n"
     ]
    }
   ],
   "source": [
    "import lda\n",
    "model = lda.LDA(n_topics=3, n_iter=1500, random_state=1)\n",
    "model.fit(adata.X.astype(np.int))  # model.fit_transform(X) is also available\n",
    "topic_word = model.topic_word_  # model.components_ also works"
   ]
  },
  {
   "cell_type": "code",
   "execution_count": 1456,
   "metadata": {},
   "outputs": [
    {
     "data": {
      "image/png": "[encoded data removed]",
      "text/plain": [
       "<Figure size 432x288 with 1 Axes>"
      ]
     },
     "metadata": {},
     "output_type": "display_data"
    }
   ],
   "source": [
    "plt.imshow(model.doc_topic_.reshape(side_length,side_length,3))\n",
    "plt.title(\"Theta values (in RGB space) across tissue\")\n",
    "plt.show()\n"
   ]
  },
  {
   "cell_type": "code",
   "execution_count": 1401,
   "metadata": {},
   "outputs": [
    {
     "data": {
      "image/png": "[encoded data removed]",
      "text/plain": [
       "<Figure size 432x288 with 1 Axes>"
      ]
     },
     "metadata": {},
     "output_type": "display_data"
    }
   ],
   "source": [
    "side_length = adata.uns[\"info\"][\"side_length\"]\n",
    "plt.imshow(adata.obsm[\"theta\"].reshape(side_length,side_length,3))\n",
    "plt.title(\"Theta values (in RGB space) across tissue\")\n",
    "plt.show()\n"
   ]
  },
  {
   "cell_type": "code",
   "execution_count": 1402,
   "metadata": {},
   "outputs": [],
   "source": [
    "X = adata.X\n",
    "spots = adata.obs_names\n",
    "genes = adata.var_names\n",
    "n_spots = len(adata.obs_names)\n",
    "n_genes = len(adata.var_names)"
   ]
  },
  {
   "cell_type": "markdown",
   "metadata": {},
   "source": [
    "## Assign random factors"
   ]
  },
  {
   "cell_type": "code",
   "execution_count": 1403,
   "metadata": {},
   "outputs": [],
   "source": [
    "def assign_random(adata, K):\n",
    "    \"\"\" add short description here\n",
    "\n",
    "    \"\"\"\n",
    "    umi_factor_list = []\n",
    "    all_n_umis = adata.X.sum(axis=1)\n",
    "    for n_UMIs in all_n_umis:\n",
    "        factors = np.random.randint(low = 0,\n",
    "                                    high = K,\n",
    "                                    size = int(n_UMIs))\n",
    "        umi_factor_list.append(factors)\n",
    "    return umi_factor_list"
   ]
  },
  {
   "cell_type": "code",
   "execution_count": 1404,
   "metadata": {},
   "outputs": [],
   "source": [
    "# this is for testing purpose\n",
    "def get_gene_identity(adata):\n",
    "    \"\"\" add short description here\n",
    "    \n",
    "    Parameters:\n",
    "    ----------\n",
    "    \"\"\"\n",
    "    n_spots,n_genes = adata.shape\n",
    "    gene_id_list = []\n",
    "    X = adata.X\n",
    "    for spot in range(n_spots):\n",
    "        gene_id_list.append([])\n",
    "        for gene in range(n_genes):\n",
    "            gene_id_list[spot] += [gene] *int(X[spot,gene])\n",
    "    return gene_id_list"
   ]
  },
  {
   "cell_type": "markdown",
   "metadata": {},
   "source": [
    "## Get IDs and count matrices"
   ]
  },
  {
   "cell_type": "code",
   "execution_count": 1405,
   "metadata": {},
   "outputs": [],
   "source": [
    "def get_ids_dt_wt(adata: an.AnnData,\n",
    "                  umi_factors: List[np.ndarray],\n",
    "                  K: int)->Tuple[np.ndarray,np.ndarray,np.ndarray]:\n",
    "    \"\"\" add short description here\n",
    "    \n",
    "    Parameters:\n",
    "    ----------\n",
    "    adata : an.AnnData\n",
    "        anndata object to study\n",
    "    umi_factors. List[np.ndarray]\n",
    "        List of arrays. Element j in list i represents\n",
    "        topic that word j belongs to in spot i\n",
    "    K: int\n",
    "        number of topics\n",
    "\n",
    "    Returns:\n",
    "    --------\n",
    "    \n",
    "    \"\"\"\n",
    "    \n",
    "    n_spots, n_genes = adata.X.shape\n",
    "    X = adata.X\n",
    "    ids = []\n",
    "    dt = np.zeros((n_spots, K))\n",
    "    wt = np.zeros((K, n_genes))\n",
    "    \n",
    "    for spot in range(n_spots):\n",
    "        ids_spot = []\n",
    "        spot_list = umi_factors[spot].tolist()\n",
    "        start = 0\n",
    "        end = 0\n",
    "        for gene in range(n_genes):\n",
    "            n_umis = int(X[spot, gene])\n",
    "            ids_spot += [gene] * n_umis\n",
    "            end += n_umis\n",
    "            for factor in range(K):\n",
    "                wt[factor, gene] += spot_list[start: end].count(factor)\n",
    "            start = end\n",
    "        ids.append(ids_spot)\n",
    "        for factor in range(K):\n",
    "            dt[spot, factor] = spot_list.count(factor)\n",
    "    return ids, dt, wt"
   ]
  },
  {
   "cell_type": "code",
   "execution_count": 1406,
   "metadata": {},
   "outputs": [],
   "source": [
    "# this is for testing purpose\n",
    "def get_ids_dt_wt_test(gene_ids: List[List[int]],\n",
    "                  umi_factors: List[np.ndarray],\n",
    "                  n_genes: int,\n",
    "                  K: int)->Tuple[np.ndarray,np.ndarray,np.ndarray]:\n",
    "    \"\"\" add short description here\n",
    "    \n",
    "    Parameters:\n",
    "    ----------\n",
    "    \"\"\"\n",
    "    \n",
    "    n_spots = len(gene_ids)\n",
    "    dt = np.zeros((n_spots, K))\n",
    "    wt = np.zeros((K, n_genes))\n",
    "    \n",
    "    for spot in range(n_spots):\n",
    "        for gene,factor in zip(gene_ids[spot],umi_factors[spot]):\n",
    "            dt[spot,factor] += 1\n",
    "            wt[factor,gene] += 1\n",
    "    \n",
    "    return dt,wt\n",
    "        "
   ]
  },
  {
   "cell_type": "code",
   "execution_count": 1407,
   "metadata": {},
   "outputs": [],
   "source": [
    "umi_factors = assign_random(adata, 3)\n",
    "gene_ids = get_gene_identity(adata)\n",
    "assert len(umi_factors) == len(gene_ids)"
   ]
  },
  {
   "cell_type": "code",
   "execution_count": 1408,
   "metadata": {},
   "outputs": [],
   "source": [
    "# test to see whether proposed implementation\n",
    "# gives equal result as my attempt\n",
    "n_spots,n_genes = adata.shape\n",
    "idx,dt,wt = get_ids_dt_wt(adata,umi_factors,3)\n",
    "dt_test,wt_test = get_ids_dt_wt_test(gene_ids,umi_factors,n_genes,3)\n",
    "\n",
    "assert np.all(dt_test==dt)\n",
    "assert np.all(wt_test == wt)"
   ]
  },
  {
   "cell_type": "code",
   "execution_count": 1409,
   "metadata": {},
   "outputs": [],
   "source": [
    "ids, dt, wt = get_ids_dt_wt(adata, umi_factors, 3)"
   ]
  },
  {
   "cell_type": "code",
   "execution_count": 1410,
   "metadata": {},
   "outputs": [],
   "source": [
    "assert(np.all(np.sum(dt,axis=1) == np.sum(X,axis=1))), \"total UMI's in spot and dt rowsums must be equal\""
   ]
  },
  {
   "cell_type": "markdown",
   "metadata": {},
   "source": [
    "## Functions for calculating theta and phi"
   ]
  },
  {
   "cell_type": "code",
   "execution_count": 1411,
   "metadata": {},
   "outputs": [],
   "source": [
    "def get_theta(dt):\n",
    "    \"\"\" add short description here\n",
    "    \n",
    "    Parameters:\n",
    "    ----------\n",
    "    \"\"\"\n",
    "    n_spots, K = dt.shape\n",
    "    theta = np.zeros((n_spots, K))\n",
    "    for spot in range(n_spots):\n",
    "        for factor in range(K):\n",
    "            theta[spot, factor] = dt[spot, factor] / np.sum(dt, axis=1)[spot]\n",
    "    return theta"
   ]
  },
  {
   "cell_type": "code",
   "execution_count": 1412,
   "metadata": {},
   "outputs": [],
   "source": [
    "theta = get_theta(dt)"
   ]
  },
  {
   "cell_type": "code",
   "execution_count": 1413,
   "metadata": {},
   "outputs": [],
   "source": [
    "def get_phi(wt): # I don't use this...\n",
    "    phi = wt/wt.sum(axis=1, keepdims=True)\n",
    "    return phi"
   ]
  },
  {
   "cell_type": "code",
   "execution_count": 1414,
   "metadata": {},
   "outputs": [],
   "source": [
    "phi = get_phi(wt)"
   ]
  },
  {
   "cell_type": "markdown",
   "metadata": {},
   "source": [
    "## Get neighbours and graph edges"
   ]
  },
  {
   "cell_type": "code",
   "execution_count": 1415,
   "metadata": {},
   "outputs": [],
   "source": [
    "def findKNN(adata: an.AnnData,\n",
    "            n_neighbours: int,\n",
    "            max_distance: float)->Tuple[List[np.ndarray],List[np.ndarray]]:\n",
    "    \"\"\" add short description here\n",
    "    \n",
    "    Parameters:\n",
    "    ----------\n",
    "    \"\"\"\n",
    "    kd = KDTree(adata.obsm[\"spatial\"])\n",
    "    dist,indx = kd.query(adata.obsm[\"spatial\"],\n",
    "                         k = n_neighbours + 1,\n",
    "                         distance_upper_bound=max_distance, #I added this\n",
    "                        )\n",
    "    return dist, indx"
   ]
  },
  {
   "cell_type": "code",
   "execution_count": 1416,
   "metadata": {},
   "outputs": [],
   "source": [
    "dist, indx = findKNN(adata,4,max_distance = 1.2)"
   ]
  },
  {
   "cell_type": "code",
   "execution_count": 1417,
   "metadata": {},
   "outputs": [],
   "source": [
    "def remove_false_neighbours(dist, indx, eps = 300):\n",
    "    \"\"\" add short description here\n",
    "    \n",
    "    Parameters:\n",
    "    ----------\n",
    "    \"\"\"\n",
    "    dist_sel = []\n",
    "    indx_sel = []\n",
    "    for i in range(len(dist)):\n",
    "        dist_sel.append([])\n",
    "        indx_sel.append([])\n",
    "        for j in range(len(dist[i])):\n",
    "            if dist[i][j] < eps:\n",
    "                dist_sel[i].append(dist[i][j])\n",
    "                indx_sel[i].append(indx[i][j])\n",
    "        dist_sel[i] = np.array(dist_sel[i])\n",
    "        indx_sel[i] = np.array(indx_sel[i])\n",
    "    return np.array(dist_sel, dtype=object), np.array(indx_sel, dtype=object)"
   ]
  },
  {
   "cell_type": "code",
   "execution_count": 1418,
   "metadata": {},
   "outputs": [],
   "source": [
    "# for test purposes\n",
    "def remove_false_neighbours_test(dist,indx):\n",
    "    \"\"\" add short description here\n",
    "    \n",
    "    Parameters:\n",
    "    ----------\n",
    "    \"\"\"\n",
    "    nbr_filter = lambda xs,ds : [x for x,d in zip(xs,ds) if not np.isinf(d)]\n",
    "    new_idx = [nbr_filter(i,d) for i,d in zip(indx,dist)]\n",
    "    new_dist = [nbr_filter(d,d) for d in dist]\n",
    "    return new_dist,new_idx"
   ]
  },
  {
   "cell_type": "code",
   "execution_count": 1419,
   "metadata": {},
   "outputs": [],
   "source": [
    "dist_sel_test,indx_sel_test = remove_false_neighbours_test(dist,indx)\n",
    "dist_sel, indx_sel = remove_false_neighbours(dist, indx)"
   ]
  },
  {
   "cell_type": "code",
   "execution_count": 1420,
   "metadata": {},
   "outputs": [],
   "source": [
    "# to test if same results are given\n",
    "for d,d_test,i,i_test in zip(dist_sel,dist_sel_test,indx_sel,indx_sel_test):\n",
    "    assert np.all(d == np.array(d_test))\n",
    "    assert np.all(i == np.array(i_test))\n",
    "    "
   ]
  },
  {
   "cell_type": "code",
   "execution_count": 1421,
   "metadata": {},
   "outputs": [],
   "source": [
    "# you are overcounting neihbours here (at least for visium)\n",
    "def get_E(indx_sel):\n",
    "    \"\"\" add short description here\n",
    "    \n",
    "    Parameters:\n",
    "    ----------\n",
    "    \"\"\"\n",
    "    edges = 0\n",
    "    for i in indx_sel:\n",
    "        edges += len(i) - 1\n",
    "    return edges"
   ]
  },
  {
   "cell_type": "code",
   "execution_count": 1422,
   "metadata": {},
   "outputs": [],
   "source": [
    "def get_E_test(indx_sel: List[int])->int:\n",
    "    \"\"\" add short description here\n",
    "    \n",
    "    Parameters:\n",
    "    ----------\n",
    "    \"\"\"\n",
    "    # make list to hold neighbor index pairs\n",
    "    indx_tuples = []\n",
    "    # iterate over neibhorhoods\n",
    "    for spot,nbrhd in enumerate(indx_sel):\n",
    "        # iterate over neihbors in neighborhood\n",
    "        for nbr in nbrhd[1::]:\n",
    "            # make a pair (spot,neibhor)\n",
    "            pair = [spot,nbr]\n",
    "            # sort pair to store edges the same way\n",
    "            # (a,b) and (b,a) will now be (a,b) and (a,b)\n",
    "            pair.sort()\n",
    "            # store pair, convert to tuple\n",
    "            indx_tuples.append(tuple(pair))\n",
    "    # apply set to pair list to remove duplicates\n",
    "    # will only hold unique edges now\n",
    "    indx_tuples = set(indx_tuples)\n",
    "    # return length\n",
    "    return len(indx_tuples)"
   ]
  },
  {
   "cell_type": "code",
   "execution_count": 1423,
   "metadata": {},
   "outputs": [],
   "source": [
    "E = get_E(indx_sel)\n",
    "E_test = get_E_test(indx_sel)\n",
    "#assert E == E_test"
   ]
  },
  {
   "cell_type": "markdown",
   "metadata": {},
   "source": [
    "## Get first lambda and l_dd"
   ]
  },
  {
   "cell_type": "code",
   "execution_count": 1424,
   "metadata": {},
   "outputs": [],
   "source": [
    "@njit(parallel=False)\n",
    "def bhattacharyya_distance(p: np.ndarray,\n",
    "                           q: np.ndarray,\n",
    "                           X: np.ndarray)->float:\n",
    "    \"\"\" add short description here\n",
    "    \n",
    "    Parameters:\n",
    "    ----------\n",
    "    \"\"\"\n",
    "    BC = 0\n",
    "    for x in range(X):\n",
    "        BC += math.sqrt(p[x]*q[x])\n",
    "    DB = - math.log(BC)\n",
    "    return DB"
   ]
  },
  {
   "cell_type": "code",
   "execution_count": 1425,
   "metadata": {},
   "outputs": [],
   "source": [
    "lambda0 = float(np.random.gamma(0.01, 0.01, 1))"
   ]
  },
  {
   "cell_type": "code",
   "execution_count": 1426,
   "metadata": {},
   "outputs": [],
   "source": [
    "def first_edge_influence(lambda0: float,\n",
    "                         theta: np.ndarray,\n",
    "                         indx_sel: List[np.ndarray],\n",
    "                         K: int)->np.ndarray:\n",
    "    \n",
    "    \"\"\" add short description here\n",
    "    \n",
    "    Parameters:\n",
    "    ----------\n",
    "    \"\"\"\n",
    "    \n",
    "    edge_influence = []\n",
    "    n_spots = len(indx_sel)\n",
    "    for spot in range(n_spots):\n",
    "        p = theta[0]\n",
    "        influences = []\n",
    "        neighbours = indx_sel[spot][1::]\n",
    "        for neighbour in neighbours:\n",
    "            q = theta[neighbour]\n",
    "            influences.append(np.random.exponential(lambda0 + bhattacharyya_distance(p, q, K)))\n",
    "        edge_influence.append(influences)\n",
    "    return np.array(edge_influence, dtype=object)"
   ]
  },
  {
   "cell_type": "code",
   "execution_count": 1427,
   "metadata": {
    "scrolled": true
   },
   "outputs": [],
   "source": [
    "edge_influence = first_edge_influence(lambda0, theta, indx_sel, 3)"
   ]
  },
  {
   "cell_type": "markdown",
   "metadata": {},
   "source": [
    "## Functions for Gibbs sampling of variables"
   ]
  },
  {
   "cell_type": "code",
   "execution_count": 1428,
   "metadata": {},
   "outputs": [
    {
     "data": {
      "text/plain": [
       "0.0030444193057779585"
      ]
     },
     "execution_count": 1428,
     "metadata": {},
     "output_type": "execute_result"
    }
   ],
   "source": [
    "edge_influence[0][0]"
   ]
  },
  {
   "cell_type": "code",
   "execution_count": 1429,
   "metadata": {},
   "outputs": [],
   "source": [
    "def sample_edge_influence(edge_influence: np.ndarray,\n",
    "                          lambda_parameter: float,\n",
    "                          theta: np.ndarray,\n",
    "                          indx_sel: List[np.ndarray],\n",
    "                          K: int)->None:\n",
    "    \n",
    "    \n",
    "    n_spots = len(indx_sel)\n",
    "    X = K\n",
    "    for spot in range(n_spots):\n",
    "        p = theta[spot]\n",
    "        index = 1\n",
    "        n_neighbours = len(indx_sel[spot][1::])\n",
    "        for index in range(n_neighbours):\n",
    "            neighbour = indx_sel[spot][index+1]\n",
    "            q = theta[neighbour]\n",
    "            edge_influence[spot][index] = np.random.exponential(lambda_parameter + bhattacharyya_distance(p, q, X))"
   ]
  },
  {
   "cell_type": "code",
   "execution_count": 1430,
   "metadata": {},
   "outputs": [],
   "source": [
    "def sample_lambda(E: int,\n",
    "                  edge_influence: float,\n",
    "                  lambda_a = 0.01,\n",
    "                  lambda_b = 0.01):\n",
    "    \n",
    "    \"\"\" add short description here\n",
    "    \n",
    "    Parameters:\n",
    "    ----------\n",
    "    \"\"\"\n",
    "    \n",
    "    sum_edge_influences = 0\n",
    "    for edge in edge_influence:\n",
    "        sum_edge_influences += sum(edge)\n",
    "    shape = lambda_a + E\n",
    "    rate = 1 / (lambda_b + sum_edge_influences)\n",
    "    lambda_parameter = np.random.gamma(shape, rate, 1)\n",
    "    return lambda_parameter"
   ]
  },
  {
   "cell_type": "code",
   "execution_count": 1431,
   "metadata": {},
   "outputs": [],
   "source": [
    "lambda_parameter = sample_lambda(E, edge_influence)"
   ]
  },
  {
   "cell_type": "code",
   "execution_count": 1432,
   "metadata": {},
   "outputs": [],
   "source": [
    "def draw_new_factor(umi_factors,\n",
    "                    ids,\n",
    "                    spot,\n",
    "                    w,\n",
    "                    dt,\n",
    "                    wt,\n",
    "                    theta,\n",
    "                    K,\n",
    "                    beta = 0.1):\n",
    "    \n",
    "    \"\"\" add short description here\n",
    "    \n",
    "    Parameters:\n",
    "    ----------\n",
    "    \"\"\"\n",
    "    factor0 = umi_factors[spot][w]\n",
    "    gene_id = ids[spot][w]\n",
    "    dt[spot, factor0] -= 1 # spots x topics\n",
    "    wt[factor0, gene_id] -= 1 # factor x genes\n",
    "    \n",
    "    left = theta[spot,:]\n",
    "    # old\n",
    "    #right = (wt[:,gene_id] + beta) / (wt.sum(axis=0)[gene_id] + K * beta)\n",
    "    # new\n",
    "    right = (wt[:,gene_id] + beta)\n",
    "    right /= right.sum()\n",
    "    pvals = left*right\n",
    "    pvals = pvals / pvals.sum()\n",
    "    \n",
    "    factor1 = np.argmax(np.random.multinomial(1,pvals))\n",
    "    dt[spot, factor1] +=  1\n",
    "    wt[factor1, gene_id] += 1\n",
    "    umi_factors[spot][w] = factor1"
   ]
  },
  {
   "cell_type": "code",
   "execution_count": 1433,
   "metadata": {},
   "outputs": [],
   "source": [
    "def draw_new_factor_2(umi_factors,\n",
    "                    ids,\n",
    "                    spot,\n",
    "                    w,\n",
    "                    dt,\n",
    "                    wt,\n",
    "                    theta,\n",
    "                    K,\n",
    "                    alpha = 1,\n",
    "                    beta = 0.1):\n",
    "    \n",
    "    \"\"\" add short description here\n",
    "    \n",
    "    Parameters:\n",
    "    ----------\n",
    "    \"\"\"\n",
    "    factor0 = umi_factors[spot][w]\n",
    "    gene_id = ids[spot][w]\n",
    "    dt[spot, factor0] -= 1 # spots x topics\n",
    "    wt[factor0, gene_id] -= 1 # factor x genes\n",
    "    \n",
    "    left = dt[spot,:] + alpha\n",
    "    left /= left.sum()\n",
    "    # old\n",
    "    #right = (wt[:,gene_id] + beta) / (wt.sum(axis=0)[gene_id] + K * beta)\n",
    "    # new\n",
    "    right = (wt[:,gene_id] + beta)\n",
    "    right /= right.sum()\n",
    "    pvals = left*right\n",
    "    pvals = pvals / pvals.sum()\n",
    "    \n",
    "    factor1 = np.argmax(np.random.multinomial(1,pvals))\n",
    "    \n",
    "    dt[spot, factor1] +=  1\n",
    "    wt[factor1, gene_id] += 1\n",
    "    umi_factors[spot][w] = factor1"
   ]
  },
  {
   "cell_type": "code",
   "execution_count": 1434,
   "metadata": {},
   "outputs": [],
   "source": [
    "draw_new_factor(umi_factors, ids, 0, 0, dt, wt, theta, 3)"
   ]
  },
  {
   "cell_type": "markdown",
   "metadata": {},
   "source": [
    "## Metropolis-Hastings sampling of theta"
   ]
  },
  {
   "cell_type": "code",
   "execution_count": 1435,
   "metadata": {},
   "outputs": [],
   "source": [
    "# we need to do MH at each step of the gibbs sampling\n",
    "# I've suggested a new solution below\n",
    "def metr_hast(theta, indx_sel, edge_influence, lambda_parameter, iterations = 1000):\n",
    "    \n",
    "    # Prepare proposal distribution    \n",
    "    dist_g = lambda x: np.random.dirichlet(x)\n",
    "\n",
    "    n_spots, X = theta.shape\n",
    "    \n",
    "    # Metropolis-Hastings sampling\n",
    "    for it in range(iterations):\n",
    "        for spot in range(n_spots):\n",
    "            log_a_prob0 = 0 # Cannot use from last Gibbs iteration, because there will be new edge_infl and lambdas.\n",
    "            log_a_prob1 = 0\n",
    "            p0 = theta[spot]\n",
    "            p1 = dist_g(np.sum(theta, axis=0)) \n",
    "            neighbours = indx_sel[spot][1:]\n",
    "            index = 0\n",
    "            for neighbour in neighbours:\n",
    "                q = theta[neighbour]\n",
    "                log_edge_potential0 = - Bhatt_dist(p0,q,X) * edge_influence[spot][index] # Double check\n",
    "                log_edge_potential1 = - Bhatt_dist(p1,q,X) * edge_influence[spot][index]\n",
    "                log_a_prob0 += log_edge_potential0\n",
    "                log_a_prob1 += log_edge_potential1\n",
    "                index += 1\n",
    "            a_prob = min(1, np.exp(log_a_prob1 - log_a_prob0)) \n",
    "#            print(a_prob) # This is really large. Maybe that's normal because everything is better than random?\n",
    "            if np.random.random() < a_prob:\n",
    "                p0 = p1\n",
    "            theta[spot] = p0"
   ]
  },
  {
   "cell_type": "code",
   "execution_count": 1436,
   "metadata": {},
   "outputs": [],
   "source": [
    "def metropolis_hastings_old(spot,\n",
    "                        theta,\n",
    "                        dt,\n",
    "                        indx_sel,\n",
    "                        alpha_orig,\n",
    "                        edge_influence,\n",
    "                        n_iter = 1000):\n",
    "    \n",
    "    n_topics = theta.shape[1]\n",
    "    accepted = 0\n",
    "    gamma = 0.001\n",
    "    \n",
    "    def log_target_dist(theta_eval):\n",
    "        l_prob = 0\n",
    "        for k,nbr in enumerate(indx_sel[spot][1::]):\n",
    "            #l_prob -=  edge_influence[spot][k]*\\\n",
    "            #bhattacharyya_distance(theta_eval,theta[nbr],n_topics)\n",
    "            l_prob -=  gamma *  bhattacharyya_distance(theta_eval,theta[nbr],n_topics)\n",
    "        return l_prob\n",
    "    \n",
    "    proposal_dist = st.dirichlet(alpha_orig + dt[spot,:])\n",
    "    \n",
    "    old_theta = theta[spot,:]\n",
    "    old_log_proposal = proposal_dist.logpdf(old_theta)\n",
    "    old_log_target = log_target_dist(old_theta)\n",
    "            \n",
    "    for it in range(n_iter):\n",
    "        new_theta = proposal_dist.rvs()[0]\n",
    "        new_log_proposal = proposal_dist.logpdf(new_theta)\n",
    "        new_log_target = log_target_dist(new_theta)\n",
    "        log_u = new_log_target + old_log_proposal - old_log_target - new_log_proposal\n",
    "        u = np.exp(log_u)\n",
    "        a = min(u,1)\n",
    "        if np.random.random() < a:\n",
    "            old_theta = new_theta\n",
    "            old_log_proposal = new_log_proposal\n",
    "            old_log_target = new_log_target\n",
    "            \n",
    "            accepted += 1\n",
    "        \n",
    "    if DEBUG: print(\"Fraction of accepted proposals : {}\".format(accepted / n_iter))\n",
    "            \n",
    "    return old_theta"
   ]
  },
  {
   "cell_type": "code",
   "execution_count": 1437,
   "metadata": {},
   "outputs": [],
   "source": [
    "from scipy.special import loggamma as lgamma"
   ]
  },
  {
   "cell_type": "code",
   "execution_count": 1438,
   "metadata": {},
   "outputs": [],
   "source": [
    "def metropolis_hastings(spot,\n",
    "                        theta,\n",
    "                        dt,\n",
    "                        indx_sel,\n",
    "                        alpha_orig,\n",
    "                        edge_influence,\n",
    "                        n_iter = 1000):\n",
    "    \n",
    "    n_topics = theta.shape[1]\n",
    "    accepted = 0\n",
    "    gamma = 0.001\n",
    "    \n",
    "    def log_target_dist(theta_eval):\n",
    "        l_prob = 0\n",
    "        for k,nbr in enumerate(indx_sel[spot][1::]):\n",
    "            #l_prob -=  edge_influence[spot][k]*\\\n",
    "            #bhattacharyya_distance(theta_eval,theta[nbr],n_topics)\n",
    "            l_prob -=  gamma *bhattacharyya_distance(theta_eval,theta[nbr],n_topics)\n",
    "        return l_prob\n",
    "    \n",
    "    Ns = dt[spot,:]\n",
    "    alpha_prime = alpha_orig + Ns\n",
    "    proposal_dist = st.dirichlet(alpha_prime)\n",
    "    \n",
    "    old_theta = theta[spot,:]\n",
    "    old_log_prob = log_target_dist(old_theta) + (np.log(old_theta)*Ns).sum()\n",
    "            \n",
    "    for it in range(n_iter):\n",
    "        new_theta = proposal_dist.rvs()[0]\n",
    "        #new_log_proposal = proposal_dist.logpdf(new_theta)\n",
    "        new_log_prob = log_target_dist(new_theta) + (np.log(new_theta)*Ns).sum()\n",
    "        log_u = new_log_prob - old_log_prob\n",
    "        u = np.exp(log_u)\n",
    "        a = min(u,1)\n",
    "        if np.random.random() < a:\n",
    "            old_theta = new_theta.copy()\n",
    "           # old_log_proposal = new_log_proposal\n",
    "            old_log_prob = new_log_prob\n",
    "            \n",
    "            accepted += 1\n",
    "        \n",
    "    if DEBUG: print(\"Fraction of accepted proposals : {}\".format(accepted / n_iter))\n",
    "            \n",
    "    return old_theta"
   ]
  },
  {
   "cell_type": "code",
   "execution_count": 1439,
   "metadata": {},
   "outputs": [],
   "source": [
    "#%%time\n",
    "#for ii in range(100):\n",
    "#    metropolis_hastings(0,theta,dt,indx_sel,np.ones(theta.shape[1]),edge_influence,n_iter=1000)"
   ]
  },
  {
   "cell_type": "markdown",
   "metadata": {},
   "source": [
    "## Gibbs sampling"
   ]
  },
  {
   "cell_type": "code",
   "execution_count": 1440,
   "metadata": {},
   "outputs": [],
   "source": [
    "def Gibbs(umi_factors,\n",
    "          ids,\n",
    "          dt,\n",
    "          wt,\n",
    "          theta,\n",
    "          K, iterations,\n",
    "          edge_influence,\n",
    "          lambda_parameter,\n",
    "          indx_sel,\n",
    "          E,\n",
    "          beta = 0.1):\n",
    "\n",
    "    alpha_orig = np.ones(K)\n",
    "    for it in range(iterations):\n",
    "        print(\"\\r Iteration: {}\".format(it),end=\"\")\n",
    "        for spot in range(len(umi_factors)):\n",
    "            for w in range(len(umi_factors[spot])):\n",
    "                draw_new_factor_2(umi_factors, ids, spot, w, dt, wt, theta, K)\n",
    "                #sample_edge_influence(edge_influence, lambda_parameter, theta, indx_sel, K)\n",
    "                #lambda_parameter = sample_lambda(E, edge_influence, lambda_a = 0.01, lambda_b = 0.01)\n",
    "                #theta[spot,:] = metropolis_hastings(spot,theta,dt,indx_sel,alpha_orig,edge_influence,n_iter =10)\n",
    "        #print(theta.sum(axis=0)) \n",
    "    theta = dt + 0.01\n",
    "    theta /= theta.sum(axis=1,keepdims = True)"
   ]
  },
  {
   "cell_type": "code",
   "execution_count": 1441,
   "metadata": {
    "scrolled": true
   },
   "outputs": [
    {
     "name": "stdout",
     "output_type": "stream",
     "text": [
      " Iteration: 4999CPU times: user 33min 46s, sys: 1min 5s, total: 34min 51s\n",
      "Wall time: 33min 27s\n"
     ]
    }
   ],
   "source": [
    "%%time\n",
    "DEBUG = False\n",
    "Gibbs(umi_factors, ids, dt, wt, theta, 3, 5000, edge_influence, lambda_parameter, indx_sel, E)"
   ]
  },
  {
   "cell_type": "code",
   "execution_count": 1442,
   "metadata": {},
   "outputs": [
    {
     "data": {
      "image/png": "[encoded data removed]",
      "text/plain": [
       "<Figure size 1440x720 with 2 Axes>"
      ]
     },
     "metadata": {},
     "output_type": "display_data"
    }
   ],
   "source": [
    "fig,ax = plt.subplots(1,2,figsize = (20,10))\n",
    "\n",
    "ax[0].imshow(adata.obsm[\"theta\"].reshape(10,10,3))\n",
    "ax[1].imshow(theta.reshape(10,10,3))\n",
    "plt.show()"
   ]
  }
 ],
 "metadata": {
  "kernelspec": {
   "display_name": "Python 3",
   "language": "python",
   "name": "python3"
  },
  "language_info": {
   "codemirror_mode": {
    "name": "ipython",
    "version": 3
   },
   "file_extension": ".py",
   "mimetype": "text/x-python",
   "name": "python",
   "nbconvert_exporter": "python",
   "pygments_lexer": "ipython3",
   "version": "3.7.5"
  }
 },
 "nbformat": 4,
 "nbformat_minor": 5
}
