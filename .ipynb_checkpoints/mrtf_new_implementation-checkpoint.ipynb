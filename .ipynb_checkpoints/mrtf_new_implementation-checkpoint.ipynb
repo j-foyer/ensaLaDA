{
 "cells": [
  {
   "cell_type": "code",
   "execution_count": 366,
   "metadata": {},
   "outputs": [],
   "source": [
    "import random\n",
    "import numpy as np\n",
    "import scanpy as sc\n",
    "import anndata as an\n",
    "import scipy.stats as st\n",
    "from scipy.spatial import KDTree\n",
    "import math\n",
    "from numba import njit\n",
    "from numba import jit\n",
    "from typing import *\n",
    "import pandas as pd\n",
    "\n",
    "\n",
    "import matplotlib.pyplot as plt\n",
    "from matplotlib import rcParams\n",
    "from mpl_toolkits import mplot3d\n",
    "\n",
    "rcParams[\"figure.facecolor\"] = \"white\"\n",
    "\n",
    "DEBUG = False"
   ]
  },
  {
   "cell_type": "code",
   "execution_count": 2,
   "metadata": {},
   "outputs": [],
   "source": [
    "DATA_PTH = \"spatial-data-synth/20210402100654897026-synth-data.h5ad\""
   ]
  },
  {
   "cell_type": "code",
   "execution_count": 3,
   "metadata": {},
   "outputs": [],
   "source": [
    "def prepare_data(adata : an.AnnData, select_hvg : bool = True)-> an.AnnData:\n",
    "    adata.var_names_make_unique()\n",
    "    if select_hvg:\n",
    "        sc.pp.log1p(adata)\n",
    "        sc.pp.highly_variable_genes(adata)\n",
    "        adata = adata[:,adata.var.highly_variable_genes.values]\n",
    "        adata.X = (np.exp(adata.X) -1).round(0)\n",
    "    return adata"
   ]
  },
  {
   "cell_type": "code",
   "execution_count": 4,
   "metadata": {},
   "outputs": [],
   "source": [
    "def gibbsSampling():\n",
    "    for d, doc in enumerate(ids):\n",
    "        for index, w in enumerate(doc):\n",
    "            z = umi_factors[d][index]\n",
    "            dt[d, z] -= 1\n",
    "            wt[z, w] -= 1\n",
    "            nz[z] -= 1\n",
    "            pz = np.divide(np.multiply(dt[d, :], wt[:, w]), nz)\n",
    "            z = np.random.multinomial(1, (pz / pz.sum())).argmax()\n",
    "            umi_factors[d][index] = z \n",
    "            dt[d, z] += 1\n",
    "            wt[z, w] += 1\n",
    "            nz[z] += 1"
   ]
  },
  {
   "cell_type": "code",
   "execution_count": 5,
   "metadata": {},
   "outputs": [],
   "source": [
    "adata = an.read_h5ad(DATA_PTH)\n",
    "adata = prepare_data(adata,select_hvg=False)"
   ]
  },
  {
   "cell_type": "code",
   "execution_count": 6,
   "metadata": {},
   "outputs": [
    {
     "data": {
      "text/plain": [
       "AnnData object with n_obs × n_vars = 100 × 50\n",
       "    obs: 'spot'\n",
       "    var: 'gene'\n",
       "    uns: 'info'\n",
       "    obsm: 'spatial', 'theta'\n",
       "    varm: 'phi'"
      ]
     },
     "execution_count": 6,
     "metadata": {},
     "output_type": "execute_result"
    }
   ],
   "source": [
    "adata"
   ]
  },
  {
   "cell_type": "code",
   "execution_count": 7,
   "metadata": {},
   "outputs": [
    {
     "data": {
      "image/png": "[encoded data removed]",
      "text/plain": [
       "<Figure size 432x288 with 1 Axes>"
      ]
     },
     "metadata": {},
     "output_type": "display_data"
    }
   ],
   "source": [
    "side_length = adata.uns[\"info\"][\"side_length\"]\n",
    "plt.imshow(adata.obsm[\"theta\"].reshape(side_length,side_length,3))\n",
    "plt.title(\"Inferred theta values (in RGB space) across tissue\")\n",
    "plt.show()"
   ]
  },
  {
   "cell_type": "markdown",
   "metadata": {},
   "source": [
    "## Define LDAdataset"
   ]
  },
  {
   "cell_type": "code",
   "execution_count": 28,
   "metadata": {},
   "outputs": [],
   "source": [
    "class LDAdataset:\n",
    "    def __init__(self,\n",
    "                 matrix: np.ndarray,\n",
    "                 crd: np.ndarray,\n",
    "                 n_topics: int = 3,\n",
    "                 alpha: float = 0.1,\n",
    "                 beta: float = 0.1,\n",
    "                 nn: int = 4,\n",
    "                ):\n",
    "        \n",
    "        self.X = matrix\n",
    "        self.crd = crd\n",
    "        \n",
    "        self.alpha = alpha\n",
    "        self.beta = beta\n",
    "        self.l = 5\n",
    "        \n",
    "        self.Nd = self.X.sum(axis=1).astype(int)\n",
    "        self.N = self.Nd.sum().astype(int)\n",
    "        self.K = n_topics\n",
    "        self.D = self.X.shape[0]\n",
    "        self.W = self.X.shape[1]\n",
    "        self.dt = np.zeros((self.D,self.K)) + self.alpha\n",
    "        self.tw = np.zeros((self.K,self.W)) + self.beta\n",
    "        self.nz = np.zeros(self.K)\n",
    "        \n",
    "        self.ztl = np.zeros(self.N,dtype=int)\n",
    "        self.dtl = np.zeros(self.N,dtype=int)\n",
    "        self.wtl = np.zeros(self.N,dtype=int)\n",
    "        \n",
    "        self.theta = np.zeros((self.N,self.K),dtype=np.float64)\n",
    "        self.phi = np.zeros((self.K,self.W),dtype = np.float64)\n",
    "        \n",
    "        self.nn = nn\n",
    "        self.nbrmat = np.zeros((self.N,self.nn),dtype = int)\n",
    "        self.nbrmask = np.zeros((self.N,self.nn),dtype = int)\n",
    "        self._build_nbrhd()\n",
    "        \n",
    "        self._initialize()\n",
    "        \n",
    "        \n",
    "    def _build_nbrhd(self,):\n",
    "        kd = KDTree(self.crd)\n",
    "        dist,idx = kd.query(self.crd,k = self.nn)\n",
    "        no_nbr = np.isinf(dist)\n",
    "        dist[no_nbr] = 0\n",
    "        dist[~no_nbr] = 1\n",
    "        idx[no_nbr] = -1\n",
    "        self.nbrmask = dist\n",
    "        self.nbrmat = idx\n",
    "    \n",
    "#        @njit(parallel=False,fastmath=True)\n",
    "    def log_pdf_dirichlet(self, x, alpha):\n",
    "        l_beta_top = 0\n",
    "        l_beta_bot = 0\n",
    "        frac = 0\n",
    "        for _a,_x in zip(alpha,x):\n",
    "            l_beta_top += math.lgamma(_a)\n",
    "            l_beta_bot += _a\n",
    "            frac += (_a - 1)*math.log(_x)\n",
    "        l_beta_bot = math.lgamma(l_beta_bot)\n",
    "        return frac + l_beta_bot - l_beta_top\n",
    "    \n",
    "#    @njit(parallel=False)\n",
    "    def dirichlet_sample(self, alpha):\n",
    "        n = len(alpha)\n",
    "        y = np.zeros(n)\n",
    "        ys = 0\n",
    "        for i in range(n):\n",
    "            y[i] = np.random.gamma(shape=alpha[i],scale=1)\n",
    "            ys += y[i]\n",
    "        y = y / ys\n",
    "        return y\n",
    "        \n",
    "        \n",
    "    def distance_fun(self,p,q):\n",
    "        #Bhattacharyya distance\n",
    "        return - np.log(np.sqrt(p*q).sum())\n",
    "        \n",
    "    \n",
    "    def log_potential(self,theta_a,theta_b):\n",
    "        return -self.l * self.distance_fun(theta_a,theta_b)\n",
    "    \n",
    "    \n",
    "    def _sample_theta(self,d,n_iter = 10):\n",
    "        \n",
    "        proposal_dist = st.dirichlet(self.dt[d,:])\n",
    "        \n",
    "        theta_mat = np.zeros((n_iter+1,self.K))\n",
    "        \n",
    "        theta_mat[0,:] = self.theta[d,:]\n",
    "        old_log_proposal = proposal_dist.logpdf(theta_mat[0,:])\n",
    "        old_log_target = self.log_potential(theta_mat[0,:],self.theta[self.nbrmat[d,:]])\n",
    "        old_log_target *= self.nbrmask[d,:]\n",
    "        old_log_target = old_log_target.sum()\n",
    "\n",
    "        for it in range(1,n_iter+1):\n",
    "            new_theta = proposal_dist.rvs()[0]\n",
    "            new_log_proposal = proposal_dist.logpdf(new_theta)\n",
    "            new_log_target = self.log_potential(new_theta,self.theta[self.nbrmat[d,:]])\n",
    "            new_log_target *= self.nbrmask[d,:]\n",
    "            new_log_target = new_log_target.sum()\n",
    "            \n",
    "            \n",
    "            log_u = new_log_target + old_log_proposal - old_log_target - new_log_proposal\n",
    "            u = np.exp(log_u) \n",
    "            a = min(u,1)\n",
    "\n",
    "            if np.random.random() < a:\n",
    "                theta_mat[it,:] = new_theta\n",
    "                old_log_target = new_log_target\n",
    "                old_log_proposal = new_log_proposal\n",
    "            else:\n",
    "                theta_mat[it,:] = theta_mat[it-1,:]\n",
    "                \n",
    "        self.theta[d,:] = theta_mat.mean(axis=0)\n",
    "\n",
    "        \n",
    "    def _sample_theta_new(self,d,n_iter = 10):\n",
    "        \n",
    "        alpha = self.dt[d,:]\n",
    "        \n",
    "        theta_mat = np.zeros((n_iter+1,self.K))\n",
    "        \n",
    "        theta_mat[0,:] = self.theta[d,:]\n",
    "        old_log_proposal = self.log_pdf_dirichlet(theta_mat[0,:], alpha)\n",
    "        old_log_target = self.log_potential(theta_mat[0,:],self.theta[self.nbrmat[d,:]])\n",
    "        old_log_target *= self.nbrmask[d,:]\n",
    "        old_log_target = old_log_target.sum()\n",
    "\n",
    "        for it in range(1,n_iter+1):\n",
    "            new_theta = self.dirichlet_sample(alpha)\n",
    "            new_log_proposal = self.log_pdf_dirichlet(new_theta, alpha)\n",
    "            new_log_target = self.log_potential(new_theta,self.theta[self.nbrmat[d,:]])\n",
    "            new_log_target *= self.nbrmask[d,:]\n",
    "            new_log_target = new_log_target.sum()\n",
    "            \n",
    "            \n",
    "            log_u = new_log_target + old_log_proposal - old_log_target - new_log_proposal\n",
    "            u = np.exp(log_u) \n",
    "            a = min(u,1)\n",
    "\n",
    "            if np.random.random() < a:\n",
    "                theta_mat[it,:] = new_theta\n",
    "                old_log_target = new_log_target\n",
    "                old_log_proposal = new_log_proposal\n",
    "            else:\n",
    "                theta_mat[it,:] = theta_mat[it-1,:]\n",
    "                \n",
    "        self.theta[d,:] = theta_mat.mean(axis=0)\n",
    "        \n",
    "        \n",
    "    def _initialize(self,):\n",
    "        \n",
    "        w_tot = 0\n",
    "        for d in range(self.D):\n",
    "            for w in range(self.W):\n",
    "                for ii in range(int(self.X[d,w])):\n",
    "                    z = w_tot % self.K\n",
    "                    self.dt[d,z] +=1\n",
    "                    self.tw[z,w] +=1\n",
    "                    self.nz[z] +=1\n",
    "                    \n",
    "                    self.ztl[w_tot] = z\n",
    "                    self.wtl[w_tot] = w\n",
    "                    self.dtl[w_tot] = d\n",
    "                    w_tot += 1\n",
    "                    \n",
    "        self._update_theta()\n",
    "        self._update_phi()\n",
    "        \n",
    "    def _update_theta(self,):\n",
    "        self.theta = self.dt / self.dt.sum(axis=1, keepdims=True)\n",
    "        \n",
    "    def _update_phi(self,):\n",
    "        self.phi = self.tw / self.tw.sum(axis=0,keepdims = True)\n",
    "    \n",
    "    def vanillaGibbsSampling(self,n_iter):\n",
    "        for it in range(n_iter):\n",
    "            print(\"\\rIteration {}\".format(it),end=\"\")\n",
    "            for ii in range(self.N):\n",
    "                z = self.ztl[ii]\n",
    "                d = self.dtl[ii]\n",
    "                w = self.wtl[ii]\n",
    "\n",
    "                self.dt[d, z] -= 1\n",
    "                self.tw[z, w] -= 1\n",
    "                self.nz[z] -= 1\n",
    "\n",
    "                \n",
    "                pz = np.divide(np.multiply(self.dt[d, :], self.tw[:, w]), self.nz)\n",
    "                pz = pz / pz.sum()\n",
    "                \n",
    "                new_z = np.random.multinomial(1, pz).argmax()\n",
    "\n",
    "                self.ztl[ii] = new_z\n",
    "                self.dt[d, new_z] += 1\n",
    "                self.tw[new_z, w] += 1\n",
    "                self.nz[new_z] += 1\n",
    "                \n",
    "    def spatialGibbsSampling(self,\n",
    "                            n_iter):\n",
    "        \n",
    "        for it in range(n_iter):\n",
    "            print(\"\\rIteration {}\".format(it),end=\"\")\n",
    "            for ii in range(self.N):\n",
    "                z = self.ztl[ii]\n",
    "                d = self.dtl[ii]\n",
    "                w = self.wtl[ii]\n",
    "\n",
    "                self.dt[d, z] -= 1\n",
    "                self.tw[z, w] -= 1\n",
    "                self.nz[z] -= 1\n",
    "                \n",
    "                p2 = self.tw[:,w] / (self.nz + self.beta*self.W)\n",
    "                pz = self.theta[d,:] * p2\n",
    "                pz = pz / pz.sum()\n",
    "                \n",
    "                new_z = np.random.multinomial(1, pz).argmax()\n",
    "\n",
    "                self.ztl[ii] = new_z\n",
    "                self.dt[d, new_z] += 1\n",
    "                self.tw[new_z, w] += 1\n",
    "                self.nz[new_z] += 1\n",
    "                \n",
    "                self._sample_theta_new(d)\n",
    "                \n",
    "                "
   ]
  },
  {
   "cell_type": "code",
   "execution_count": 9,
   "metadata": {},
   "outputs": [
    {
     "ename": "NameError",
     "evalue": "name 'data' is not defined",
     "output_type": "error",
     "traceback": [
      "\u001b[0;31m---------------------------------------------------------------------------\u001b[0m",
      "\u001b[0;31mNameError\u001b[0m                                 Traceback (most recent call last)",
      "\u001b[0;32m<ipython-input-9-34825d5ff4cb>\u001b[0m in \u001b[0;36m<module>\u001b[0;34m\u001b[0m\n\u001b[0;32m----> 1\u001b[0;31m \u001b[0mdata\u001b[0m\u001b[0;34m.\u001b[0m\u001b[0mN\u001b[0m\u001b[0;34m\u001b[0m\u001b[0;34m\u001b[0m\u001b[0m\n\u001b[0m",
      "\u001b[0;31mNameError\u001b[0m: name 'data' is not defined"
     ]
    }
   ],
   "source": [
    "data.N"
   ]
  },
  {
   "cell_type": "markdown",
   "metadata": {},
   "source": [
    "### spatial LDA\n",
    "\n",
    "first fit the model"
   ]
  },
  {
   "cell_type": "code",
   "execution_count": 29,
   "metadata": {},
   "outputs": [
    {
     "name": "stdout",
     "output_type": "stream",
     "text": [
      "Iteration 149CPU times: user 10min 20s, sys: 2.62 s, total: 10min 23s\n",
      "Wall time: 10min 22s\n"
     ]
    }
   ],
   "source": [
    "%%time\n",
    "data = LDAdataset(adata.X,adata.obsm[\"spatial\"])\n",
    "data.spatialGibbsSampling(150)"
   ]
  },
  {
   "cell_type": "markdown",
   "metadata": {},
   "source": [
    "Then examine the results"
   ]
  },
  {
   "cell_type": "code",
   "execution_count": 30,
   "metadata": {},
   "outputs": [
    {
     "name": "stdout",
     "output_type": "stream",
     "text": [
      "5\n"
     ]
    },
    {
     "data": {
      "image/png": "[encoded data removed]",
      "text/plain": [
       "<Figure size 432x288 with 1 Axes>"
      ]
     },
     "metadata": {},
     "output_type": "display_data"
    }
   ],
   "source": [
    "data._update_theta()\n",
    "print(data.l)\n",
    "plt.imshow(data.theta.reshape(side_length,side_length,3)[:,:,[1,2,0]])\n",
    "plt.title(\"Inferred theta values (in RGB space) across tissue\")\n",
    "plt.show()"
   ]
  },
  {
   "cell_type": "code",
   "execution_count": 18,
   "metadata": {},
   "outputs": [
    {
     "name": "stdout",
     "output_type": "stream",
     "text": [
      "5\n"
     ]
    },
    {
     "data": {
      "image/png": "[encoded data removed]",
      "text/plain": [
       "<Figure size 432x288 with 1 Axes>"
      ]
     },
     "metadata": {},
     "output_type": "display_data"
    }
   ],
   "source": [
    "data._update_theta()\n",
    "print(data.l)\n",
    "plt.imshow(data.theta.reshape(side_length,side_length,3)[:,:,[1,2,0]])\n",
    "plt.title(\"Inferred theta values (in RGB space) across tissue\")\n",
    "plt.show()"
   ]
  },
  {
   "cell_type": "code",
   "execution_count": 48,
   "metadata": {},
   "outputs": [],
   "source": [
    "def get_phi(tw):\n",
    "    phi = tw/tw.sum(axis=1, keepdims=True)\n",
    "    return phi"
   ]
  },
  {
   "cell_type": "code",
   "execution_count": 155,
   "metadata": {},
   "outputs": [],
   "source": [
    "def get_theta(dt):\n",
    "    \"\"\" add short description here\n",
    "    \n",
    "    Parameters:\n",
    "    ----------\n",
    "    \"\"\"\n",
    "    theta = dt / dt.sum(axis=1, keepdims=True)\n",
    "    return theta"
   ]
  },
  {
   "cell_type": "code",
   "execution_count": 49,
   "metadata": {},
   "outputs": [],
   "source": [
    "phi = get_phi(data.tw)"
   ]
  },
  {
   "cell_type": "code",
   "execution_count": 157,
   "metadata": {},
   "outputs": [],
   "source": [
    "theta = get_theta(data.dt)"
   ]
  },
  {
   "cell_type": "code",
   "execution_count": 52,
   "metadata": {},
   "outputs": [],
   "source": [
    "from scipy.spatial.distance import cdist"
   ]
  },
  {
   "cell_type": "code",
   "execution_count": 119,
   "metadata": {},
   "outputs": [],
   "source": [
    "a = np.array([[1, 2, 3, 4],[6, 9, 4, 0],[2, 3, 4, 5]])\n",
    "b = np.array([[1, 2, 3, 4],[2, 3, 4, 5],[6, 9, 5, 1]])\n",
    "c = correlate_factors(a, b)"
   ]
  },
  {
   "cell_type": "code",
   "execution_count": 121,
   "metadata": {},
   "outputs": [
    {
     "data": {
      "text/plain": [
       "array([[0.        , 0.00619201, 0.34349232],\n",
       "       [0.43007717, 0.35100704, 0.00659412],\n",
       "       [0.00619201, 0.        , 0.27169201]])"
      ]
     },
     "execution_count": 121,
     "metadata": {},
     "output_type": "execute_result"
    }
   ],
   "source": [
    "c"
   ]
  },
  {
   "cell_type": "code",
   "execution_count": 120,
   "metadata": {},
   "outputs": [
    {
     "data": {
      "text/plain": [
       "array([0, 2, 1])"
      ]
     },
     "execution_count": 120,
     "metadata": {},
     "output_type": "execute_result"
    }
   ],
   "source": [
    "c.argmin(axis=1)"
   ]
  },
  {
   "cell_type": "code",
   "execution_count": 109,
   "metadata": {},
   "outputs": [],
   "source": [
    "def correlate_factors(phi_obs, phi_true):\n",
    "    cos_dist = cdist(phi_obs, phi_true, 'cosine')\n",
    "    return cos_dist"
   ]
  },
  {
   "cell_type": "code",
   "execution_count": 96,
   "metadata": {},
   "outputs": [],
   "source": [
    "phi_true = adata.varm['phi'].T"
   ]
  },
  {
   "cell_type": "code",
   "execution_count": 111,
   "metadata": {},
   "outputs": [],
   "source": [
    "cos_dist = correlate_factors(phi, phi_true)"
   ]
  },
  {
   "cell_type": "code",
   "execution_count": 112,
   "metadata": {},
   "outputs": [
    {
     "data": {
      "text/plain": [
       "array([[0.02123735, 0.6667219 , 0.84926217],\n",
       "       [0.8239031 , 0.01505024, 0.59941687],\n",
       "       [0.94781448, 0.71420295, 0.00655069]])"
      ]
     },
     "execution_count": 112,
     "metadata": {},
     "output_type": "execute_result"
    }
   ],
   "source": [
    "cos_dist"
   ]
  },
  {
   "cell_type": "code",
   "execution_count": 150,
   "metadata": {},
   "outputs": [],
   "source": [
    "theta_true = adata.obsm['theta']"
   ]
  },
  {
   "cell_type": "code",
   "execution_count": 175,
   "metadata": {},
   "outputs": [],
   "source": [
    "def correlate_factors(phi_obs, phi_true, theta_true):\n",
    "    cos_dist = cdist(phi_obs, phi_true, 'cosine')\n",
    "    factor_order = cos_dist.argmin(axis=1)\n",
    "    phi_true_ord = phi_true[factor_order, :]\n",
    "    theta_true_ord = theta_true[:, factor_order]\n",
    "    return phi_true_ord, theta_true_ord"
   ]
  },
  {
   "cell_type": "code",
   "execution_count": 177,
   "metadata": {},
   "outputs": [],
   "source": [
    "phi_true_ord, theta_true_ord = correlate_factors(phi, phi_true, theta_true)"
   ]
  },
  {
   "cell_type": "code",
   "execution_count": 196,
   "metadata": {},
   "outputs": [],
   "source": [
    "n_spots = adata.X.shape[0]\n",
    "K = 3"
   ]
  },
  {
   "cell_type": "code",
   "execution_count": 254,
   "metadata": {},
   "outputs": [],
   "source": [
    "phi_pipy, theta_pipy = correlate_factors(phi, model.topic_word_, model.doc_topic_)"
   ]
  },
  {
   "cell_type": "code",
   "execution_count": 275,
   "metadata": {},
   "outputs": [],
   "source": [
    "def pearson(theta, theta_true_ord, n_spots, K):\n",
    "    pcor = np.zeros((K, 2))\n",
    "    for i, t in enumerate(theta):\n",
    "    #    print(t)\n",
    "     #   print(i)\n",
    "#        print(theta_true_ord[i])\n",
    "        pcor[i] = st.pearsonr(t, theta_true_ord[i])\n",
    "#    means = np.absolute(pcor).mean(axis=0)\n",
    "#    print(\"Mean pearson's correlation coefficient:\", means[0])\n",
    "#    print(\"Mean p-value:\", means[1])\n",
    "    return pcor"
   ]
  },
  {
   "cell_type": "code",
   "execution_count": 276,
   "metadata": {},
   "outputs": [],
   "source": [
    "pcor = pearson(theta.T, theta_true_ord.T, n_spots, K)"
   ]
  },
  {
   "cell_type": "code",
   "execution_count": 367,
   "metadata": {},
   "outputs": [
    {
     "data": {
      "text/plain": [
       "array([[8.48790268e-01, 7.10642683e-29],\n",
       "       [7.88980599e-01, 1.88377808e-22],\n",
       "       [8.63811135e-01, 6.16547635e-31]])"
      ]
     },
     "execution_count": 367,
     "metadata": {},
     "output_type": "execute_result"
    }
   ],
   "source": [
    "pcor"
   ]
  },
  {
   "cell_type": "code",
   "execution_count": 261,
   "metadata": {},
   "outputs": [
    {
     "name": "stdout",
     "output_type": "stream",
     "text": [
      "Mean pearson's correlation coefficient: 0.670910857201261\n",
      "Mean p-value: 0.46582217056848607\n"
     ]
    }
   ],
   "source": [
    "pcor_pipy = pearson(theta_true, theta_pipy, n_spots, K)"
   ]
  },
  {
   "cell_type": "code",
   "execution_count": 215,
   "metadata": {},
   "outputs": [],
   "source": [
    "import lda\n",
    "import lda.datasets"
   ]
  },
  {
   "cell_type": "code",
   "execution_count": 241,
   "metadata": {},
   "outputs": [],
   "source": [
    "model = lda.LDA(n_topics=3, n_iter=1500, random_state=1)"
   ]
  },
  {
   "cell_type": "code",
   "execution_count": 233,
   "metadata": {},
   "outputs": [],
   "source": [
    "X = np.array(X, dtype='int64')"
   ]
  },
  {
   "cell_type": "code",
   "execution_count": 242,
   "metadata": {},
   "outputs": [
    {
     "name": "stderr",
     "output_type": "stream",
     "text": [
      "INFO:lda:n_documents: 100\n",
      "INFO:lda:vocab_size: 50\n",
      "INFO:lda:n_words: 10346\n",
      "INFO:lda:n_topics: 3\n",
      "INFO:lda:n_iter: 1500\n",
      "WARNING:lda:all zero column in document-term matrix found\n",
      "INFO:lda:<0> log likelihood: -44331\n",
      "INFO:lda:<10> log likelihood: -39607\n",
      "INFO:lda:<20> log likelihood: -38624\n",
      "INFO:lda:<30> log likelihood: -37909\n",
      "INFO:lda:<40> log likelihood: -37618\n",
      "INFO:lda:<50> log likelihood: -37325\n",
      "INFO:lda:<60> log likelihood: -37367\n",
      "INFO:lda:<70> log likelihood: -37579\n",
      "INFO:lda:<80> log likelihood: -37177\n",
      "INFO:lda:<90> log likelihood: -36957\n",
      "INFO:lda:<100> log likelihood: -36764\n",
      "INFO:lda:<110> log likelihood: -36485\n",
      "INFO:lda:<120> log likelihood: -36632\n",
      "INFO:lda:<130> log likelihood: -36647\n",
      "INFO:lda:<140> log likelihood: -36862\n",
      "INFO:lda:<150> log likelihood: -36498\n",
      "INFO:lda:<160> log likelihood: -36680\n",
      "INFO:lda:<170> log likelihood: -36434\n",
      "INFO:lda:<180> log likelihood: -36423\n",
      "INFO:lda:<190> log likelihood: -35910\n",
      "INFO:lda:<200> log likelihood: -36185\n",
      "INFO:lda:<210> log likelihood: -36374\n",
      "INFO:lda:<220> log likelihood: -36226\n",
      "INFO:lda:<230> log likelihood: -36174\n",
      "INFO:lda:<240> log likelihood: -35654\n",
      "INFO:lda:<250> log likelihood: -35769\n",
      "INFO:lda:<260> log likelihood: -35668\n",
      "INFO:lda:<270> log likelihood: -35319\n",
      "INFO:lda:<280> log likelihood: -35604\n",
      "INFO:lda:<290> log likelihood: -35692\n",
      "INFO:lda:<300> log likelihood: -35668\n",
      "INFO:lda:<310> log likelihood: -35560\n",
      "INFO:lda:<320> log likelihood: -35774\n",
      "INFO:lda:<330> log likelihood: -36054\n",
      "INFO:lda:<340> log likelihood: -35652\n",
      "INFO:lda:<350> log likelihood: -35683\n",
      "INFO:lda:<360> log likelihood: -35708\n",
      "INFO:lda:<370> log likelihood: -35681\n",
      "INFO:lda:<380> log likelihood: -35499\n",
      "INFO:lda:<390> log likelihood: -35695\n",
      "INFO:lda:<400> log likelihood: -35973\n",
      "INFO:lda:<410> log likelihood: -35891\n",
      "INFO:lda:<420> log likelihood: -35986\n",
      "INFO:lda:<430> log likelihood: -36170\n",
      "INFO:lda:<440> log likelihood: -36459\n",
      "INFO:lda:<450> log likelihood: -36314\n",
      "INFO:lda:<460> log likelihood: -36217\n",
      "INFO:lda:<470> log likelihood: -36229\n",
      "INFO:lda:<480> log likelihood: -36093\n",
      "INFO:lda:<490> log likelihood: -35943\n",
      "INFO:lda:<500> log likelihood: -35920\n",
      "INFO:lda:<510> log likelihood: -35796\n",
      "INFO:lda:<520> log likelihood: -35994\n",
      "INFO:lda:<530> log likelihood: -35986\n",
      "INFO:lda:<540> log likelihood: -35732\n",
      "INFO:lda:<550> log likelihood: -35593\n",
      "INFO:lda:<560> log likelihood: -35664\n",
      "INFO:lda:<570> log likelihood: -35649\n",
      "INFO:lda:<580> log likelihood: -35640\n",
      "INFO:lda:<590> log likelihood: -35546\n",
      "INFO:lda:<600> log likelihood: -35397\n",
      "INFO:lda:<610> log likelihood: -35536\n",
      "INFO:lda:<620> log likelihood: -35644\n",
      "INFO:lda:<630> log likelihood: -35455\n",
      "INFO:lda:<640> log likelihood: -35589\n",
      "INFO:lda:<650> log likelihood: -35401\n",
      "INFO:lda:<660> log likelihood: -35580\n",
      "INFO:lda:<670> log likelihood: -35772\n",
      "INFO:lda:<680> log likelihood: -35905\n",
      "INFO:lda:<690> log likelihood: -35824\n",
      "INFO:lda:<700> log likelihood: -36187\n",
      "INFO:lda:<710> log likelihood: -36028\n",
      "INFO:lda:<720> log likelihood: -36009\n",
      "INFO:lda:<730> log likelihood: -35755\n",
      "INFO:lda:<740> log likelihood: -36050\n",
      "INFO:lda:<750> log likelihood: -36153\n",
      "INFO:lda:<760> log likelihood: -35861\n",
      "INFO:lda:<770> log likelihood: -35667\n",
      "INFO:lda:<780> log likelihood: -35857\n",
      "INFO:lda:<790> log likelihood: -35624\n",
      "INFO:lda:<800> log likelihood: -35887\n",
      "INFO:lda:<810> log likelihood: -35685\n",
      "INFO:lda:<820> log likelihood: -35621\n",
      "INFO:lda:<830> log likelihood: -35929\n",
      "INFO:lda:<840> log likelihood: -35842\n",
      "INFO:lda:<850> log likelihood: -35591\n",
      "INFO:lda:<860> log likelihood: -35709\n",
      "INFO:lda:<870> log likelihood: -35597\n",
      "INFO:lda:<880> log likelihood: -35706\n",
      "INFO:lda:<890> log likelihood: -35385\n",
      "INFO:lda:<900> log likelihood: -35420\n",
      "INFO:lda:<910> log likelihood: -35761\n",
      "INFO:lda:<920> log likelihood: -35840\n",
      "INFO:lda:<930> log likelihood: -35805\n",
      "INFO:lda:<940> log likelihood: -35773\n",
      "INFO:lda:<950> log likelihood: -35894\n",
      "INFO:lda:<960> log likelihood: -35882\n",
      "INFO:lda:<970> log likelihood: -35608\n",
      "INFO:lda:<980> log likelihood: -35654\n",
      "INFO:lda:<990> log likelihood: -35702\n",
      "INFO:lda:<1000> log likelihood: -35502\n",
      "INFO:lda:<1010> log likelihood: -35252\n",
      "INFO:lda:<1020> log likelihood: -35205\n",
      "INFO:lda:<1030> log likelihood: -35518\n",
      "INFO:lda:<1040> log likelihood: -35418\n",
      "INFO:lda:<1050> log likelihood: -35373\n",
      "INFO:lda:<1060> log likelihood: -35539\n",
      "INFO:lda:<1070> log likelihood: -35573\n",
      "INFO:lda:<1080> log likelihood: -35536\n",
      "INFO:lda:<1090> log likelihood: -35913\n",
      "INFO:lda:<1100> log likelihood: -35876\n",
      "INFO:lda:<1110> log likelihood: -36150\n",
      "INFO:lda:<1120> log likelihood: -36118\n",
      "INFO:lda:<1130> log likelihood: -36027\n",
      "INFO:lda:<1140> log likelihood: -35691\n",
      "INFO:lda:<1150> log likelihood: -35517\n",
      "INFO:lda:<1160> log likelihood: -35621\n",
      "INFO:lda:<1170> log likelihood: -35783\n",
      "INFO:lda:<1180> log likelihood: -35683\n",
      "INFO:lda:<1190> log likelihood: -35848\n",
      "INFO:lda:<1200> log likelihood: -35781\n",
      "INFO:lda:<1210> log likelihood: -35836\n",
      "INFO:lda:<1220> log likelihood: -35758\n",
      "INFO:lda:<1230> log likelihood: -35892\n",
      "INFO:lda:<1240> log likelihood: -35824\n",
      "INFO:lda:<1250> log likelihood: -35708\n",
      "INFO:lda:<1260> log likelihood: -35397\n",
      "INFO:lda:<1270> log likelihood: -35461\n",
      "INFO:lda:<1280> log likelihood: -35454\n",
      "INFO:lda:<1290> log likelihood: -35197\n",
      "INFO:lda:<1300> log likelihood: -35347\n",
      "INFO:lda:<1310> log likelihood: -35411\n",
      "INFO:lda:<1320> log likelihood: -35766\n",
      "INFO:lda:<1330> log likelihood: -35969\n",
      "INFO:lda:<1340> log likelihood: -36006\n",
      "INFO:lda:<1350> log likelihood: -36019\n",
      "INFO:lda:<1360> log likelihood: -35998\n",
      "INFO:lda:<1370> log likelihood: -36100\n",
      "INFO:lda:<1380> log likelihood: -36003\n",
      "INFO:lda:<1390> log likelihood: -36071\n",
      "INFO:lda:<1400> log likelihood: -35995\n",
      "INFO:lda:<1410> log likelihood: -35986\n",
      "INFO:lda:<1420> log likelihood: -36226\n",
      "INFO:lda:<1430> log likelihood: -36277\n",
      "INFO:lda:<1440> log likelihood: -36225\n",
      "INFO:lda:<1450> log likelihood: -36092\n",
      "INFO:lda:<1460> log likelihood: -35864\n",
      "INFO:lda:<1470> log likelihood: -36155\n",
      "INFO:lda:<1480> log likelihood: -35840\n",
      "INFO:lda:<1490> log likelihood: -35564\n",
      "INFO:lda:<1499> log likelihood: -35814\n"
     ]
    },
    {
     "data": {
      "text/plain": [
       "<lda.lda.LDA at 0x7f9b6e1b4590>"
      ]
     },
     "execution_count": 242,
     "metadata": {},
     "output_type": "execute_result"
    }
   ],
   "source": [
    "model.fit(X)"
   ]
  },
  {
   "cell_type": "markdown",
   "metadata": {},
   "source": [
    "### vanilla LDA\n",
    "\n",
    "first fit the model"
   ]
  },
  {
   "cell_type": "code",
   "execution_count": 13,
   "metadata": {},
   "outputs": [
    {
     "name": "stdout",
     "output_type": "stream",
     "text": [
      "Iteration 149CPU times: user 31.6 s, sys: 1.47 s, total: 33 s\n",
      "Wall time: 31.4 s\n"
     ]
    }
   ],
   "source": [
    "%%time\n",
    "data2 = LDAdataset(adata.X,adata.obsm[\"spatial\"])\n",
    "data2.vanillaGibbsSampling(150)"
   ]
  },
  {
   "cell_type": "markdown",
   "metadata": {},
   "source": [
    "then inspect the results"
   ]
  },
  {
   "cell_type": "code",
   "execution_count": 14,
   "metadata": {},
   "outputs": [
    {
     "name": "stdout",
     "output_type": "stream",
     "text": [
      "5\n"
     ]
    },
    {
     "data": {
      "image/png": "[encoded data removed]",
      "text/plain": [
       "<Figure size 432x288 with 1 Axes>"
      ]
     },
     "metadata": {},
     "output_type": "display_data"
    }
   ],
   "source": [
    "data2._update_theta()\n",
    "print(data.l)\n",
    "plt.imshow(data2.theta.reshape(side_length,side_length,3)[:,:,[0,1,2]])\n",
    "plt.title(\"Inferred theta values (in RGB space) across tissue\")\n",
    "plt.show()"
   ]
  }
 ],
 "metadata": {
  "kernelspec": {
   "display_name": "Python 3",
   "language": "python",
   "name": "python3"
  },
  "language_info": {
   "codemirror_mode": {
    "name": "ipython",
    "version": 3
   },
   "file_extension": ".py",
   "mimetype": "text/x-python",
   "name": "python",
   "nbconvert_exporter": "python",
   "pygments_lexer": "ipython3",
   "version": "3.7.9"
  }
 },
 "nbformat": 4,
 "nbformat_minor": 2
}
